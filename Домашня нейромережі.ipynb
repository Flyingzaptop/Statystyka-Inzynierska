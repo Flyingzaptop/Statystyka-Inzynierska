{
  "nbformat": 4,
  "nbformat_minor": 0,
  "metadata": {
    "colab": {
      "provenance": [],
      "toc_visible": true,
      "gpuType": "T4",
      "include_colab_link": true
    },
    "kernelspec": {
      "name": "python3",
      "display_name": "Python 3"
    },
    "language_info": {
      "name": "python"
    },
    "accelerator": "GPU"
  },
  "cells": [
    {
      "cell_type": "markdown",
      "metadata": {
        "id": "view-in-github",
        "colab_type": "text"
      },
      "source": [
        "<a href = \"https://colab.research.google.com/github/flyingzaptop/python-colab/blob/main/%D0%94%D0%BE%D0%B C%D0%D1%88%D0%BD%D1%8f%20%D0%BD%D0%D0%D0%D1%80%D0%D0%D0%BC%D0%D1%80%D0%D0%D0%B6%D1%96.IPYNB \"Target =\" _ Pare „https://colab.research.google.com/assets/colab-badge.svg” alt = \"Otwórz w colab\"/> </a>"
      ]
    },
    {
      "cell_type": "markdown",
      "source": [
        "Import modułów"
      ],
      "metadata": {
        "id": "w1r0k1UheNCz"
      }
    },
    {
      "cell_type": "code",
      "execution_count": 1,
      "metadata": {
        "id": "4XxgJqCDoExm"
      },
      "outputs": [],
      "source": [
        "import torch\n",
        "import pandas as pd\n",
        "\n",
        "device = \"cuda\" if torch.cuda.is_available() else \"cpu\"\n",
        "torch.set_default_device(device)"
      ]
    },
    {
      "cell_type": "markdown",
      "source": [
        "Dane ubezpieczenia zdrowotnego"
      ],
      "metadata": {
        "id": "Kpk2KycTeQEE"
      }
    },
    {
      "cell_type": "code",
      "source": [
        "# трохи обробки даних\n",
        "df = pd.read_csv('https://raw.githubusercontent.com/HalyshAnton/IT-Step-Pyton-AI/main/module3/data/insurance.csv')\n",
        "\n",
        "df['sex'] = df['sex'].map({'male': 0, 'female':1})\n",
        "df['smoker'] = df['smoker'].map({'no': 0, 'yes':1})\n",
        "\n",
        "df = df.drop(columns=['region'])\n",
        "\n",
        "data = df[['age', 'bmi', 'expenses']]\n",
        "df[['age', 'bmi', 'expenses']] = (data - data.min()) / (data.max() - data.min())"
      ],
      "metadata": {
        "id": "926S2f5pdnH6"
      },
      "execution_count": 2,
      "outputs": []
    },
    {
      "cell_type": "code",
      "source": [
        "df.head()"
      ],
      "metadata": {
        "colab": {
          "base_uri": "https://localhost:8080/",
          "height": 206
        },
        "id": "eG6_dawddqwd",
        "outputId": "1e5eff69-3a34-47b8-cf7f-1079170d32ea"
      },
      "execution_count": 3,
      "outputs": [
        {
          "output_type": "execute_result",
          "data": {
            "text/plain": [
              "        age  sex       bmi  children  smoker  expenses\n",
              "0  0.021739    1  0.320755         0       1  0.251611\n",
              "1  0.000000    0  0.479784         1       0  0.009636\n",
              "2  0.217391    0  0.458221         3       0  0.053115\n",
              "3  0.326087    0  0.180593         0       0  0.333010\n",
              "4  0.304348    0  0.347709         0       0  0.043816"
            ],
            "text/html": [
              "\n",
              "  <div id=\"df-ed1d6ac3-8f3e-4162-89be-cf57f93dfc7a\" class=\"colab-df-container\">\n",
              "    <div>\n",
              "<style scoped>\n",
              "    .dataframe tbody tr th:only-of-type {\n",
              "        vertical-align: middle;\n",
              "    }\n",
              "\n",
              "    .dataframe tbody tr th {\n",
              "        vertical-align: top;\n",
              "    }\n",
              "\n",
              "    .dataframe thead th {\n",
              "        text-align: right;\n",
              "    }\n",
              "</style>\n",
              "<table border=\"1\" class=\"dataframe\">\n",
              "  <thead>\n",
              "    <tr style=\"text-align: right;\">\n",
              "      <th></th>\n",
              "      <th>age</th>\n",
              "      <th>sex</th>\n",
              "      <th>bmi</th>\n",
              "      <th>children</th>\n",
              "      <th>smoker</th>\n",
              "      <th>expenses</th>\n",
              "    </tr>\n",
              "  </thead>\n",
              "  <tbody>\n",
              "    <tr>\n",
              "      <th>0</th>\n",
              "      <td>0.021739</td>\n",
              "      <td>1</td>\n",
              "      <td>0.320755</td>\n",
              "      <td>0</td>\n",
              "      <td>1</td>\n",
              "      <td>0.251611</td>\n",
              "    </tr>\n",
              "    <tr>\n",
              "      <th>1</th>\n",
              "      <td>0.000000</td>\n",
              "      <td>0</td>\n",
              "      <td>0.479784</td>\n",
              "      <td>1</td>\n",
              "      <td>0</td>\n",
              "      <td>0.009636</td>\n",
              "    </tr>\n",
              "    <tr>\n",
              "      <th>2</th>\n",
              "      <td>0.217391</td>\n",
              "      <td>0</td>\n",
              "      <td>0.458221</td>\n",
              "      <td>3</td>\n",
              "      <td>0</td>\n",
              "      <td>0.053115</td>\n",
              "    </tr>\n",
              "    <tr>\n",
              "      <th>3</th>\n",
              "      <td>0.326087</td>\n",
              "      <td>0</td>\n",
              "      <td>0.180593</td>\n",
              "      <td>0</td>\n",
              "      <td>0</td>\n",
              "      <td>0.333010</td>\n",
              "    </tr>\n",
              "    <tr>\n",
              "      <th>4</th>\n",
              "      <td>0.304348</td>\n",
              "      <td>0</td>\n",
              "      <td>0.347709</td>\n",
              "      <td>0</td>\n",
              "      <td>0</td>\n",
              "      <td>0.043816</td>\n",
              "    </tr>\n",
              "  </tbody>\n",
              "</table>\n",
              "</div>\n",
              "    <div class=\"colab-df-buttons\">\n",
              "\n",
              "  <div class=\"colab-df-container\">\n",
              "    <button class=\"colab-df-convert\" onclick=\"convertToInteractive('df-ed1d6ac3-8f3e-4162-89be-cf57f93dfc7a')\"\n",
              "            title=\"Convert this dataframe to an interactive table.\"\n",
              "            style=\"display:none;\">\n",
              "\n",
              "  <svg xmlns=\"http://www.w3.org/2000/svg\" height=\"24px\" viewBox=\"0 -960 960 960\">\n",
              "    <path d=\"M120-120v-720h720v720H120Zm60-500h600v-160H180v160Zm220 220h160v-160H400v160Zm0 220h160v-160H400v160ZM180-400h160v-160H180v160Zm440 0h160v-160H620v160ZM180-180h160v-160H180v160Zm440 0h160v-160H620v160Z\"/>\n",
              "  </svg>\n",
              "    </button>\n",
              "\n",
              "  <style>\n",
              "    .colab-df-container {\n",
              "      display:flex;\n",
              "      gap: 12px;\n",
              "    }\n",
              "\n",
              "    .colab-df-convert {\n",
              "      background-color: #E8F0FE;\n",
              "      border: none;\n",
              "      border-radius: 50%;\n",
              "      cursor: pointer;\n",
              "      display: none;\n",
              "      fill: #1967D2;\n",
              "      height: 32px;\n",
              "      padding: 0 0 0 0;\n",
              "      width: 32px;\n",
              "    }\n",
              "\n",
              "    .colab-df-convert:hover {\n",
              "      background-color: #E2EBFA;\n",
              "      box-shadow: 0px 1px 2px rgba(60, 64, 67, 0.3), 0px 1px 3px 1px rgba(60, 64, 67, 0.15);\n",
              "      fill: #174EA6;\n",
              "    }\n",
              "\n",
              "    .colab-df-buttons div {\n",
              "      margin-bottom: 4px;\n",
              "    }\n",
              "\n",
              "    [theme=dark] .colab-df-convert {\n",
              "      background-color: #3B4455;\n",
              "      fill: #D2E3FC;\n",
              "    }\n",
              "\n",
              "    [theme=dark] .colab-df-convert:hover {\n",
              "      background-color: #434B5C;\n",
              "      box-shadow: 0px 1px 3px 1px rgba(0, 0, 0, 0.15);\n",
              "      filter: drop-shadow(0px 1px 2px rgba(0, 0, 0, 0.3));\n",
              "      fill: #FFFFFF;\n",
              "    }\n",
              "  </style>\n",
              "\n",
              "    <script>\n",
              "      const buttonEl =\n",
              "        document.querySelector('#df-ed1d6ac3-8f3e-4162-89be-cf57f93dfc7a button.colab-df-convert');\n",
              "      buttonEl.style.display =\n",
              "        google.colab.kernel.accessAllowed ? 'block' : 'none';\n",
              "\n",
              "      async function convertToInteractive(key) {\n",
              "        const element = document.querySelector('#df-ed1d6ac3-8f3e-4162-89be-cf57f93dfc7a');\n",
              "        const dataTable =\n",
              "          await google.colab.kernel.invokeFunction('convertToInteractive',\n",
              "                                                    [key], {});\n",
              "        if (!dataTable) return;\n",
              "\n",
              "        const docLinkHtml = 'Like what you see? Visit the ' +\n",
              "          '<a target=\"_blank\" href=https://colab.research.google.com/notebooks/data_table.ipynb>data table notebook</a>'\n",
              "          + ' to learn more about interactive tables.';\n",
              "        element.innerHTML = '';\n",
              "        dataTable['output_type'] = 'display_data';\n",
              "        await google.colab.output.renderOutput(dataTable, element);\n",
              "        const docLink = document.createElement('div');\n",
              "        docLink.innerHTML = docLinkHtml;\n",
              "        element.appendChild(docLink);\n",
              "      }\n",
              "    </script>\n",
              "  </div>\n",
              "\n",
              "\n",
              "<div id=\"df-d5e13d1d-cd0a-4234-833d-112057d60ca5\">\n",
              "  <button class=\"colab-df-quickchart\" onclick=\"quickchart('df-d5e13d1d-cd0a-4234-833d-112057d60ca5')\"\n",
              "            title=\"Suggest charts\"\n",
              "            style=\"display:none;\">\n",
              "\n",
              "<svg xmlns=\"http://www.w3.org/2000/svg\" height=\"24px\"viewBox=\"0 0 24 24\"\n",
              "     width=\"24px\">\n",
              "    <g>\n",
              "        <path d=\"M19 3H5c-1.1 0-2 .9-2 2v14c0 1.1.9 2 2 2h14c1.1 0 2-.9 2-2V5c0-1.1-.9-2-2-2zM9 17H7v-7h2v7zm4 0h-2V7h2v10zm4 0h-2v-4h2v4z\"/>\n",
              "    </g>\n",
              "</svg>\n",
              "  </button>\n",
              "\n",
              "<style>\n",
              "  .colab-df-quickchart {\n",
              "      --bg-color: #E8F0FE;\n",
              "      --fill-color: #1967D2;\n",
              "      --hover-bg-color: #E2EBFA;\n",
              "      --hover-fill-color: #174EA6;\n",
              "      --disabled-fill-color: #AAA;\n",
              "      --disabled-bg-color: #DDD;\n",
              "  }\n",
              "\n",
              "  [theme=dark] .colab-df-quickchart {\n",
              "      --bg-color: #3B4455;\n",
              "      --fill-color: #D2E3FC;\n",
              "      --hover-bg-color: #434B5C;\n",
              "      --hover-fill-color: #FFFFFF;\n",
              "      --disabled-bg-color: #3B4455;\n",
              "      --disabled-fill-color: #666;\n",
              "  }\n",
              "\n",
              "  .colab-df-quickchart {\n",
              "    background-color: var(--bg-color);\n",
              "    border: none;\n",
              "    border-radius: 50%;\n",
              "    cursor: pointer;\n",
              "    display: none;\n",
              "    fill: var(--fill-color);\n",
              "    height: 32px;\n",
              "    padding: 0;\n",
              "    width: 32px;\n",
              "  }\n",
              "\n",
              "  .colab-df-quickchart:hover {\n",
              "    background-color: var(--hover-bg-color);\n",
              "    box-shadow: 0 1px 2px rgba(60, 64, 67, 0.3), 0 1px 3px 1px rgba(60, 64, 67, 0.15);\n",
              "    fill: var(--button-hover-fill-color);\n",
              "  }\n",
              "\n",
              "  .colab-df-quickchart-complete:disabled,\n",
              "  .colab-df-quickchart-complete:disabled:hover {\n",
              "    background-color: var(--disabled-bg-color);\n",
              "    fill: var(--disabled-fill-color);\n",
              "    box-shadow: none;\n",
              "  }\n",
              "\n",
              "  .colab-df-spinner {\n",
              "    border: 2px solid var(--fill-color);\n",
              "    border-color: transparent;\n",
              "    border-bottom-color: var(--fill-color);\n",
              "    animation:\n",
              "      spin 1s steps(1) infinite;\n",
              "  }\n",
              "\n",
              "  @keyframes spin {\n",
              "    0% {\n",
              "      border-color: transparent;\n",
              "      border-bottom-color: var(--fill-color);\n",
              "      border-left-color: var(--fill-color);\n",
              "    }\n",
              "    20% {\n",
              "      border-color: transparent;\n",
              "      border-left-color: var(--fill-color);\n",
              "      border-top-color: var(--fill-color);\n",
              "    }\n",
              "    30% {\n",
              "      border-color: transparent;\n",
              "      border-left-color: var(--fill-color);\n",
              "      border-top-color: var(--fill-color);\n",
              "      border-right-color: var(--fill-color);\n",
              "    }\n",
              "    40% {\n",
              "      border-color: transparent;\n",
              "      border-right-color: var(--fill-color);\n",
              "      border-top-color: var(--fill-color);\n",
              "    }\n",
              "    60% {\n",
              "      border-color: transparent;\n",
              "      border-right-color: var(--fill-color);\n",
              "    }\n",
              "    80% {\n",
              "      border-color: transparent;\n",
              "      border-right-color: var(--fill-color);\n",
              "      border-bottom-color: var(--fill-color);\n",
              "    }\n",
              "    90% {\n",
              "      border-color: transparent;\n",
              "      border-bottom-color: var(--fill-color);\n",
              "    }\n",
              "  }\n",
              "</style>\n",
              "\n",
              "  <script>\n",
              "    async function quickchart(key) {\n",
              "      const quickchartButtonEl =\n",
              "        document.querySelector('#' + key + ' button');\n",
              "      quickchartButtonEl.disabled = true;  // To prevent multiple clicks.\n",
              "      quickchartButtonEl.classList.add('colab-df-spinner');\n",
              "      try {\n",
              "        const charts = await google.colab.kernel.invokeFunction(\n",
              "            'suggestCharts', [key], {});\n",
              "      } catch (error) {\n",
              "        console.error('Error during call to suggestCharts:', error);\n",
              "      }\n",
              "      quickchartButtonEl.classList.remove('colab-df-spinner');\n",
              "      quickchartButtonEl.classList.add('colab-df-quickchart-complete');\n",
              "    }\n",
              "    (() => {\n",
              "      let quickchartButtonEl =\n",
              "        document.querySelector('#df-d5e13d1d-cd0a-4234-833d-112057d60ca5 button');\n",
              "      quickchartButtonEl.style.display =\n",
              "        google.colab.kernel.accessAllowed ? 'block' : 'none';\n",
              "    })();\n",
              "  </script>\n",
              "</div>\n",
              "\n",
              "    </div>\n",
              "  </div>\n"
            ],
            "application/vnd.google.colaboratory.intrinsic+json": {
              "type": "dataframe",
              "variable_name": "df",
              "summary": "{\n  \"name\": \"df\",\n  \"rows\": 1338,\n  \"fields\": [\n    {\n      \"column\": \"age\",\n      \"properties\": {\n        \"dtype\": \"number\",\n        \"std\": 0.30543392128730656,\n        \"min\": 0.0,\n        \"max\": 1.0,\n        \"num_unique_values\": 47,\n        \"samples\": [\n          0.06521739130434782,\n          0.5869565217391305,\n          0.391304347826087\n        ],\n        \"semantic_type\": \"\",\n        \"description\": \"\"\n      }\n    },\n    {\n      \"column\": \"sex\",\n      \"properties\": {\n        \"dtype\": \"number\",\n        \"std\": 0,\n        \"min\": 0,\n        \"max\": 1,\n        \"num_unique_values\": 2,\n        \"samples\": [\n          0,\n          1\n        ],\n        \"semantic_type\": \"\",\n        \"description\": \"\"\n      }\n    },\n    {\n      \"column\": \"bmi\",\n      \"properties\": {\n        \"dtype\": \"number\",\n        \"std\": 0.16437687843674842,\n        \"min\": 0.0,\n        \"max\": 1.0,\n        \"num_unique_values\": 275,\n        \"samples\": [\n          0.339622641509434,\n          0.13207547169811315\n        ],\n        \"semantic_type\": \"\",\n        \"description\": \"\"\n      }\n    },\n    {\n      \"column\": \"children\",\n      \"properties\": {\n        \"dtype\": \"number\",\n        \"std\": 1,\n        \"min\": 0,\n        \"max\": 5,\n        \"num_unique_values\": 6,\n        \"samples\": [\n          0,\n          1\n        ],\n        \"semantic_type\": \"\",\n        \"description\": \"\"\n      }\n    },\n    {\n      \"column\": \"smoker\",\n      \"properties\": {\n        \"dtype\": \"number\",\n        \"std\": 0,\n        \"min\": 0,\n        \"max\": 1,\n        \"num_unique_values\": 2,\n        \"samples\": [\n          0,\n          1\n        ],\n        \"semantic_type\": \"\",\n        \"description\": \"\"\n      }\n    },\n    {\n      \"column\": \"expenses\",\n      \"properties\": {\n        \"dtype\": \"number\",\n        \"std\": 0.1933007117754418,\n        \"min\": 0.0,\n        \"max\": 1.0,\n        \"num_unique_values\": 1337,\n        \"samples\": [\n          0.12078473950558483,\n          0.07321796382869775\n        ],\n        \"semantic_type\": \"\",\n        \"description\": \"\"\n      }\n    }\n  ]\n}"
            }
          },
          "metadata": {},
          "execution_count": 3
        }
      ]
    },
    {
      "cell_type": "markdown",
      "source": [
        "Konieczne jest przewidzieć wielkość jego ubezpieczenia „wydatki” na podstawie informacji ludzkich"
      ],
      "metadata": {
        "id": "KAmkR_CFejgQ"
      }
    },
    {
      "cell_type": "markdown",
      "source": [
        "# Zadanie 1\nUtwórz klasę danych"
      ],
      "metadata": {
        "id": "dBt0E5BJe6OK"
      }
    },
    {
      "cell_type": "code",
      "source": [
        "from torch.utils.data import Dataset\n",
        "\n",
        "\n",
        "class MyDataset(Dataset):\n",
        "    def __init__(self, X, y):\n",
        "      self.X = torch.FloatTensor(X.values).to(device)\n",
        "      self.y = torch.FloatTensor(y.values).to(device)\n",
        "      self.y = self.y.reshape(-1, 1)\n",
        "\n",
        "    def __len__(self):\n",
        "      return len(self.X)\n",
        "\n",
        "    def __getitem__(self, idx):\n",
        "      return self.X[idx], self.y[idx]\n",
        "\n",
        "# Create dataset object\n",
        "X = df.drop(columns=['expenses'])\n",
        "y = df['expenses']\n",
        "\n",
        "dataset = MyDataset(X, y)"
      ],
      "metadata": {
        "id": "vFtu1Wd1drwJ"
      },
      "execution_count": 5,
      "outputs": []
    },
    {
      "cell_type": "markdown",
      "source": [
        "## weryfikacja"
      ],
      "metadata": {
        "id": "_mNl8R_Dtd5x"
      }
    },
    {
      "cell_type": "code",
      "source": [
        "\n",
        "def check_initialization(X, y):\n",
        "    try:\n",
        "        dataset = MyDataset(X, y)\n",
        "        if torch.is_tensor(dataset.X) and torch.is_tensor(dataset.y):\n",
        "            print(\"[OK] Ініціалізація коректна.\")\n",
        "        else:\n",
        "            print(\"[FAILED] Ініціалізація не вдалася: X або y не є тензорами.\")\n",
        "    except Exception as e:\n",
        "        print(f\"[FAILED] Помилка ініціалізації: {e}\")\n",
        "\n",
        "def check_y_shape(dataset):\n",
        "    if dataset.y.ndim == 2 and dataset.y.shape[1] == 1:\n",
        "        print(\"[OK] 'y' правильно перетворений на вектор-стовпець.\")\n",
        "    else:\n",
        "        print(f\"[FAILED] 'y' перетворений некоректно, поточна форма: {dataset.y.shape}\")\n",
        "\n",
        "def check_length(dataset, expected_length):\n",
        "    if len(dataset) == expected_length:\n",
        "        print(\"[OK] Перевірка довжини пройдена.\")\n",
        "    else:\n",
        "        print(f\"[FAILED] Перевірка довжини не вдалася. Очікувана довжина: {expected_length}, отримана: {len(dataset)}.\")\n",
        "\n",
        "def check_getitem(dataset, idx):\n",
        "    try:\n",
        "        X_item, y_item = dataset[idx]\n",
        "        if torch.is_tensor(X_item) and torch.is_tensor(y_item):\n",
        "            print(f\"[OK] Отримання елемента коректне для індексу {idx}.\")\n",
        "        else:\n",
        "            print(f\"[FAILED] Отримання елемента некоректне для індексу {idx}.\")\n",
        "    except Exception as e:\n",
        "        print(f\"[FAILED] Помилка у методі `__getitem__`: {e}\")\n",
        "\n",
        "def check_tensor_types(dataset):\n",
        "    if dataset.X.dtype == torch.float32 and dataset.y.dtype == torch.float32:\n",
        "        print(\"[OK] X та y збережені як FloatTensor.\")\n",
        "    else:\n",
        "        print(f\"[FAILED] Невідповідність типу тензорів: X має тип {dataset.X.dtype}, y має тип {dataset.y.dtype}.\")"
      ],
      "metadata": {
        "id": "rRhVtWG2r-wz"
      },
      "execution_count": 6,
      "outputs": []
    },
    {
      "cell_type": "code",
      "source": [
        "def main_checks():\n",
        "    print(\"\\n=== Виконання перевірок ===\")\n",
        "    check_initialization(X, y)\n",
        "    check_y_shape(dataset)\n",
        "    check_length(dataset, len(X))\n",
        "    check_getitem(dataset, 0)\n",
        "    check_tensor_types(dataset)\n",
        "    print(\"=== Перевірки завершені ===\\n\")\n",
        "\n",
        "\n",
        "main_checks()"
      ],
      "metadata": {
        "id": "H5HBUyUrtano",
        "outputId": "f36b3ec2-31da-4be8-804d-52c74222d7e5",
        "colab": {
          "base_uri": "https://localhost:8080/"
        }
      },
      "execution_count": 7,
      "outputs": [
        {
          "output_type": "stream",
          "name": "stdout",
          "text": [
            "\n",
            "=== Виконання перевірок ===\n",
            "[OK] Ініціалізація коректна.\n",
            "[OK] 'y' правильно перетворений на вектор-стовпець.\n",
            "[OK] Перевірка довжини пройдена.\n",
            "[OK] Отримання елемента коректне для індексу 0.\n",
            "[OK] X та y збережені як FloatTensor.\n",
            "=== Перевірки завершені ===\n",
            "\n"
          ]
        }
      ]
    },
    {
      "cell_type": "markdown",
      "source": [
        "# Zadanie 2\nUtwórz DataSaloader. Sprawdź wymiary danych w pierwszym pakiecie. Rozmiar pakietu Wybierz siebie"
      ],
      "metadata": {
        "id": "zQlB_6WzfB8n"
      }
    },
    {
      "cell_type": "code",
      "source": [
        "from torch.utils.data import DataLoader\n",
        "\n",
        "batch_size = 64\n",
        "dataloader = DataLoader(dataset,\n",
        "                        batch_size=batch_size,\n",
        "                        shuffle=True,\n",
        "                        generator=torch.Generator(device=device))"
      ],
      "metadata": {
        "id": "-6-po4H4fZQy"
      },
      "execution_count": 8,
      "outputs": []
    },
    {
      "cell_type": "markdown",
      "source": [
        "## weryfikacja"
      ],
      "metadata": {
        "id": "8GNxcS0WuxmA"
      }
    },
    {
      "cell_type": "code",
      "source": [
        "\n",
        "def check_batch_size(batch_size):\n",
        "    if isinstance(batch_size, int) and batch_size > 0:\n",
        "        print(f\"[OK] batch_size встановлений як {batch_size}.\")\n",
        "    else:\n",
        "        print(f\"[FAILED] batch_size некоректний, поточне значення: {batch_size}\")\n",
        "\n",
        "def check_dataloader_initialization(dataset, batch_size):\n",
        "    try:\n",
        "        dataloader = DataLoader(dataset, batch_size=batch_size, shuffle=True)\n",
        "        if isinstance(dataloader, DataLoader):\n",
        "            print(f\"[OK] DataLoader створений коректно з batch_size = {batch_size}.\")\n",
        "        else:\n",
        "            print(\"[FAILED] DataLoader не створений.\")\n",
        "    except Exception as e:\n",
        "        print(f\"[FAILED] Помилка під час ініціалізації DataLoader: {e}\")\n",
        "\n",
        "def check_dataloader_loading(dataloader, batch_size):\n",
        "    try:\n",
        "        for batch in dataloader:\n",
        "            print(f\"[OK] Форма ознак у батчі: {batch[0].shape}, Форма цільових змінних: {batch[1].shape}\")\n",
        "            if batch[0].shape[0] == batch_size or len(dataloader.dataset) % batch_size != 0:\n",
        "                print(f\"[OK] DataLoader завантажує дані пакетами по {batch_size}.\")\n",
        "            else:\n",
        "                print(f\"[FAILED] Розмір батчу некоректний, очікувано: {batch_size}\")\n",
        "            break\n",
        "    except Exception as e:\n",
        "        print(f\"[FAILED] Помилка під час завантаження DataLoader: {e}\")\n",
        "\n",
        "# Main function to run all checks\n",
        "def main_checks_dataloader(X, y, batch_size):\n",
        "    # Create an instance of the dataset\n",
        "    dataset = MyDataset(X, y)\n",
        "    dataloader = DataLoader(dataset, batch_size=batch_size, shuffle=True)\n",
        "\n",
        "    print(\"\\n=== Виконання перевірок DataLoader ===\")\n",
        "    check_batch_size(batch_size)\n",
        "    check_dataloader_initialization(dataset, batch_size)\n",
        "    check_dataloader_loading(dataloader, batch_size)\n",
        "    print(\"=== Перевірки завершені ===\\n\")"
      ],
      "metadata": {
        "id": "PF2lo12jud-M"
      },
      "execution_count": 9,
      "outputs": []
    },
    {
      "cell_type": "code",
      "source": [
        "def main_checks_dataloader():\n",
        "    print(\"\\n=== Виконання перевірок DataLoader ===\")\n",
        "    check_batch_size(batch_size)\n",
        "    check_dataloader_initialization(dataset, batch_size)\n",
        "    check_dataloader_loading(dataloader, batch_size)\n",
        "    print(\"=== Перевірки завершені ===\\n\")\n",
        "\n",
        "main_checks_dataloader()"
      ],
      "metadata": {
        "id": "YtXlP_GGuk2m",
        "outputId": "6e36333b-68d8-4909-f5e8-3ced9d42236c",
        "colab": {
          "base_uri": "https://localhost:8080/"
        }
      },
      "execution_count": 10,
      "outputs": [
        {
          "output_type": "stream",
          "name": "stdout",
          "text": [
            "\n",
            "=== Виконання перевірок DataLoader ===\n",
            "[OK] batch_size встановлений як 64.\n",
            "[OK] DataLoader створений коректно з batch_size = 64.\n",
            "[OK] Форма ознак у батчі: torch.Size([64, 5]), Форма цільових змінних: torch.Size([64, 1])\n",
            "[OK] DataLoader завантажує дані пакетами по 64.\n",
            "=== Перевірки завершені ===\n",
            "\n"
          ]
        }
      ]
    },
    {
      "cell_type": "markdown",
      "source": [
        "# Zadanie 3\nUtwórz sieć neuronową:\n* Wybierz liczbę warstw między 1-5\n* Wybierz różne funkcje aktywacji: RELU, Leakyrelu, Swish\n*Dzieciak neuronów w ukrytych warstwach powinien ** nie rosnąć **"
      ],
      "metadata": {
        "id": "2W93LiDxfZrx"
      }
    },
    {
      "cell_type": "code",
      "source": [
        "from torch import nn\n",
        "\n",
        "\n",
        "model = nn.Sequential(\n",
        "    nn.Linear(5, 5),\n",
        "    nn.ReLU(),\n",
        "    nn.Linear(5, 1)\n",
        ")\n",
        "\n",
        "model"
      ],
      "metadata": {
        "id": "p9DHog7Xf7xE",
        "outputId": "de91ba7f-3912-4912-e6bb-0d56eca575b8",
        "colab": {
          "base_uri": "https://localhost:8080/"
        }
      },
      "execution_count": 12,
      "outputs": [
        {
          "output_type": "execute_result",
          "data": {
            "text/plain": [
              "Sequential(\n",
              "  (0): Linear(in_features=5, out_features=5, bias=True)\n",
              "  (1): ReLU()\n",
              "  (2): Linear(in_features=5, out_features=1, bias=True)\n",
              ")"
            ]
          },
          "metadata": {},
          "execution_count": 12
        }
      ]
    },
    {
      "cell_type": "markdown",
      "source": [
        "## weryfikacja"
      ],
      "metadata": {
        "id": "HQa0yQBlyFne"
      }
    },
    {
      "cell_type": "code",
      "source": [
        "def check_layers(model):\n",
        "    # Перевірка кількості шарів\n",
        "    num_layers = len(list(model.children()))\n",
        "    if 1 <= num_layers <= 5:\n",
        "        print(\"[OK] Кількість шарів: \", num_layers)\n",
        "    else:\n",
        "        print(\"[FAILED] Кількість шарів: \", num_layers)\n",
        "\n",
        "def check_activation_functions(model):\n",
        "    # Перевірка наявності правильних функцій активації\n",
        "    valid_activations = [nn.ReLU, nn.LeakyReLU, nn.SiLU]  # SiLU is еквівалент Swish\n",
        "    layers = list(model.children())\n",
        "\n",
        "    # Перевірка першого шару\n",
        "    first_layer = layers[0]\n",
        "    if isinstance(first_layer, nn.Linear) and first_layer.in_features == dataset.X.shape[1]:\n",
        "        print(f\"[OK] Кількість вхідних нейронів першого шару відповідає {dataset.X.shape[1]}\")\n",
        "    else:\n",
        "        print(\"[FAILED] Кількість вхідних нейронів першого шару: \", first_layer.in_features,\n",
        "              \" (очікується: \", dataset.X.shape[1], \")\")\n",
        "\n",
        "    for layer in layers[1:]:  # Починаємо з другого шару\n",
        "        if isinstance(layer, nn.Linear):\n",
        "            if layer.in_features < layer.out_features:\n",
        "                print(\"[FAILED] Кількість нейронів зростає: \", layer.in_features, \"->\", layer.out_features)\n",
        "                return\n",
        "\n",
        "    print(\"[OK] Всі функції активації вірні\")"
      ],
      "metadata": {
        "id": "_sQtUpXPw_1z"
      },
      "execution_count": 13,
      "outputs": []
    },
    {
      "cell_type": "code",
      "source": [
        "def main_check():\n",
        "    print(\"Розпочинаю перевірку моделі...\")\n",
        "    check_layers(model)\n",
        "    check_activation_functions(model)\n",
        "\n",
        "main_check()"
      ],
      "metadata": {
        "id": "_G7il6aExOgc",
        "outputId": "2552afdb-cd65-4a35-d1af-ef6dfa8de34f",
        "colab": {
          "base_uri": "https://localhost:8080/"
        }
      },
      "execution_count": 14,
      "outputs": [
        {
          "output_type": "stream",
          "name": "stdout",
          "text": [
            "Розпочинаю перевірку моделі...\n",
            "[OK] Кількість шарів:  3\n",
            "[OK] Кількість вхідних нейронів першого шару відповідає 5\n",
            "[OK] Всі функції активації вірні\n"
          ]
        }
      ]
    },
    {
      "cell_type": "markdown",
      "source": [
        "# Zadanie 4\nOkreśl funkcję straty i optymalizator"
      ],
      "metadata": {
        "id": "VmNUVkkUf8gB"
      }
    },
    {
      "cell_type": "code",
      "source": [
        "loss_fn = nn.MSELoss()\n",
        "optimizer = torch.optim.SGD(model.parameters(), lr=0.001)"
      ],
      "metadata": {
        "id": "e1sw9oRBgDXR"
      },
      "execution_count": 15,
      "outputs": []
    },
    {
      "cell_type": "markdown",
      "source": [
        "# Zadanie 5\nZawiesić sieć neuronową. Odwiedź niewielką liczbę epok"
      ],
      "metadata": {
        "id": "qTOFCl_egEFZ"
      }
    },
    {
      "cell_type": "code",
      "source": [
        "import numpy as np\n",
        "\n",
        "num_epochs = 15\n",
        "losses = []\n",
        "\n",
        "for epoch in range(num_epochs):\n",
        "  losses_ = []\n",
        "  for X_batch, y_batch in dataloader:\n",
        "        # пряме пошерення\n",
        "        y_pred = model(X_batch)\n",
        "        loss = loss_fn(y_pred, y_batch)\n",
        "        losses_.append(loss.item())\n",
        "\n",
        "        # Зворотнє поширення\n",
        "        loss.backward() # рахуємо градієнти\n",
        "        optimizer.step()\n",
        "        optimizer.zero_grad()\n",
        "\n",
        "  losses.append(np.mean(losses_))\n",
        "\n",
        "  if epoch % 1 == 0:\n",
        "          print(f'loss={losses[-1]}')"
      ],
      "metadata": {
        "id": "Nxo4p3IUgOx5",
        "outputId": "cf4523f9-813a-48e2-d56c-844ae85502a7",
        "colab": {
          "base_uri": "https://localhost:8080/"
        }
      },
      "execution_count": 16,
      "outputs": [
        {
          "output_type": "stream",
          "name": "stdout",
          "text": [
            "loss=0.43520007530848187\n",
            "loss=0.3741475953942254\n",
            "loss=0.3240037191481817\n",
            "loss=0.28293411291780923\n",
            "loss=0.2482835856221971\n",
            "loss=0.2194983469588416\n",
            "loss=0.1947545451777322\n",
            "loss=0.1740081530241739\n",
            "loss=0.15599284924211956\n",
            "loss=0.14060602798348382\n",
            "loss=0.12749162990422475\n",
            "loss=0.1158609145453998\n",
            "loss=0.10614611243917829\n",
            "loss=0.09742289746091479\n",
            "loss=0.09005146934872582\n"
          ]
        }
      ]
    },
    {
      "cell_type": "markdown",
      "source": [
        "# Zadanie 6\nZapisz sieć neuronową i dokonaj prognozy"
      ],
      "metadata": {
        "id": "aoclw4XlgPhB"
      }
    },
    {
      "cell_type": "code",
      "source": [
        "torch.save(model, 'model.pt')\n",
        "load_model = torch.load('model.pt')"
      ],
      "metadata": {
        "id": "UzVFg-KjgYgy",
        "outputId": "b0e30dc5-3f07-45d0-c8db-5e2ec4b59e64",
        "colab": {
          "base_uri": "https://localhost:8080/"
        }
      },
      "execution_count": 17,
      "outputs": [
        {
          "output_type": "stream",
          "name": "stderr",
          "text": [
            "<ipython-input-17-f2aed6997a05>:2: FutureWarning: You are using `torch.load` with `weights_only=False` (the current default value), which uses the default pickle module implicitly. It is possible to construct malicious pickle data which will execute arbitrary code during unpickling (See https://github.com/pytorch/pytorch/blob/main/SECURITY.md#untrusted-models for more details). In a future release, the default value for `weights_only` will be flipped to `True`. This limits the functions that could be executed during unpickling. Arbitrary objects will no longer be allowed to be loaded via this mode unless they are explicitly allowlisted by the user via `torch.serialization.add_safe_globals`. We recommend you start setting `weights_only=True` for any use case where you don't have full control of the loaded file. Please open an issue on GitHub for any issues related to this experimental feature.\n",
            "  load_model = torch.load('model.pt')\n"
          ]
        }
      ]
    },
    {
      "cell_type": "code",
      "source": [
        "load_model"
      ],
      "metadata": {
        "id": "hkP9-SAf0OOA",
        "outputId": "a360fe2a-aba0-4e80-e94b-362d38b0596d",
        "colab": {
          "base_uri": "https://localhost:8080/"
        }
      },
      "execution_count": 19,
      "outputs": [
        {
          "output_type": "execute_result",
          "data": {
            "text/plain": [
              "Sequential(\n",
              "  (0): Linear(in_features=5, out_features=5, bias=True)\n",
              "  (1): ReLU()\n",
              "  (2): Linear(in_features=5, out_features=1, bias=True)\n",
              ")"
            ]
          },
          "metadata": {},
          "execution_count": 19
        }
      ]
    },
    {
      "cell_type": "code",
      "source": [
        "X_data = torch.FloatTensor(X.iloc[[0]].values)\n",
        "X_data = X_data.to(device)\n",
        "\n",
        "print(X_data)\n",
        "print(X_data.shape)"
      ],
      "metadata": {
        "id": "1NO7uhTu0Ob7",
        "outputId": "9f91b7f5-9fd6-4d60-a642-39262c49acae",
        "colab": {
          "base_uri": "https://localhost:8080/"
        }
      },
      "execution_count": 18,
      "outputs": [
        {
          "output_type": "stream",
          "name": "stdout",
          "text": [
            "tensor([[0.0217, 1.0000, 0.3208, 0.0000, 1.0000]])\n",
            "torch.Size([1, 5])\n"
          ]
        }
      ]
    },
    {
      "cell_type": "code",
      "source": [
        "load_model(X_data)"
      ],
      "metadata": {
        "id": "0x28gaaR0U28",
        "outputId": "d6f773a6-a5b5-4be2-f1e8-9099a1f62c51",
        "colab": {
          "base_uri": "https://localhost:8080/"
        }
      },
      "execution_count": 20,
      "outputs": [
        {
          "output_type": "execute_result",
          "data": {
            "text/plain": [
              "tensor([[0.2115]], grad_fn=<AddmmBackward0>)"
            ]
          },
          "metadata": {},
          "execution_count": 20
        }
      ]
    }
  ]
}