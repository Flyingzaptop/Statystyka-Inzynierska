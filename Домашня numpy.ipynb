{
  "nbformat": 4,
  "nbformat_minor": 0,
  "metadata": {
    "colab": {
      "provenance": [],
      "toc_visible": true,
      "include_colab_link": true
    },
    "kernelspec": {
      "name": "python3",
      "display_name": "Python 3"
    },
    "language_info": {
      "name": "python"
    }
  },
  "cells": [
    {
      "cell_type": "markdown",
      "metadata": {
        "id": "view-in-github",
        "colab_type": "text"
      },
      "source": [
        "<a href = \"https://colab.research.google.com/github/flyingzaptop/pyton-colab/blob/main/pr%202.ipynb\" target = \"_ pary\"> <mmg src = \"https://colab.research.google.com/assets/colab-badge.svg\" alt = \"otwórz\" https://colab.google.com/assets/colab-badge.svg \" </a>"
      ]
    },
    {
      "cell_type": "markdown",
      "source": [
        "Zaimportuj moduł Numpy"
      ],
      "metadata": {
        "id": "tk2sNnUDkXK9"
      }
    },
    {
      "cell_type": "code",
      "source": [
        "import numpy as np"
      ],
      "metadata": {
        "id": "1QbCsQ62kUmZ"
      },
      "execution_count": 1,
      "outputs": []
    },
    {
      "cell_type": "markdown",
      "source": [
        "#Task 1\n\nUtwórz tablicę z liczbami parzystymi od 30 do 70"
      ],
      "metadata": {
        "id": "ZVC4Yb3JZFO1"
      }
    },
    {
      "cell_type": "code",
      "source": [
        "q1 = np.arange(30,70,2)\n",
        "print(q1)"
      ],
      "metadata": {
        "id": "aunm4Jm_hUkL",
        "outputId": "d7df37a3-fee4-46f7-8f39-8ace7d4563d6",
        "colab": {
          "base_uri": "https://localhost:8080/"
        }
      },
      "execution_count": 4,
      "outputs": [
        {
          "output_type": "stream",
          "name": "stdout",
          "text": [
            "[30 32 34 36 38 40 42 44 46 48 50 52 54 56 58 60 62 64 66 68]\n"
          ]
        }
      ]
    },
    {
      "cell_type": "markdown",
      "source": [
        "#Task 2\nUtwórz tablicę z 10 liczbami między 0 (włączającymi) a 1 (nie włączającą) Patrz dokumentacja"
      ],
      "metadata": {
        "id": "UDSLr3f0b31r"
      }
    },
    {
      "cell_type": "code",
      "source": [
        "q2 = np.arange(0,1,0.1)\n",
        "print(q2)"
      ],
      "metadata": {
        "id": "w7iNkGd_hUM-",
        "outputId": "ff9b47f6-7671-4a57-e14c-78fd1593ac9a",
        "colab": {
          "base_uri": "https://localhost:8080/"
        }
      },
      "execution_count": 8,
      "outputs": [
        {
          "output_type": "stream",
          "name": "stdout",
          "text": [
            "[0.  0.1 0.2 0.3 0.4 0.5 0.6 0.7 0.8 0.9]\n"
          ]
        }
      ]
    },
    {
      "cell_type": "markdown",
      "source": [
        "#Task 4\nNapisz funkcję, która przyjmuje macierz rozmiaru NXN i zwraca macierz rozmiaru (n+2) x (n+2), na których krawędzie jest umieszczone 0."
      ],
      "metadata": {
        "id": "rtWKmLWhYi_j"
      }
    },
    {
      "cell_type": "code",
      "source": [
        "w = 3\n",
        "l = 3\n",
        "\n",
        "task = np.random.randint(1,10,(w,l))\n",
        "\n",
        "zer = np.zeros((w+2,l+2), dtype = int)\n",
        "\n",
        "zer[1:-1,1:-1] = task\n",
        "\n",
        "\n",
        "print(zer)\n",
        "\n"
      ],
      "metadata": {
        "id": "mU7vjsnqhVfk",
        "colab": {
          "base_uri": "https://localhost:8080/"
        },
        "outputId": "167c1316-6e88-4afe-a111-fc9c278f0394"
      },
      "execution_count": 16,
      "outputs": [
        {
          "output_type": "stream",
          "name": "stdout",
          "text": [
            "[[0 0 0 0 0]\n",
            " [0 6 3 5 0]\n",
            " [0 5 7 5 0]\n",
            " [0 8 9 7 0]\n",
            " [0 0 0 0 0]]\n"
          ]
        }
      ]
    },
    {
      "cell_type": "markdown",
      "source": [
        "#Task 5\nW masie z wyprzedzeniem zmień typ danych. Wytnij typ danych przed i po zmianie"
      ],
      "metadata": {
        "id": "ok_hMAEJa9oh"
      }
    },
    {
      "cell_type": "code",
      "source": [
        "print(task.dtype)\n",
        "task = task.astype(float)\n",
        "print(task.dtype)"
      ],
      "metadata": {
        "id": "vYlj3r3ShV98",
        "outputId": "92805c63-a481-41f2-be50-5989fc07584e",
        "colab": {
          "base_uri": "https://localhost:8080/"
        }
      },
      "execution_count": 17,
      "outputs": [
        {
          "output_type": "stream",
          "name": "stdout",
          "text": [
            "int64\n",
            "float64\n"
          ]
        }
      ]
    },
    {
      "cell_type": "markdown",
      "source": [
        "#Task 6\nW tej tablicy wymień elementy równe \\ większe \\ mniejsze niż var przez -1"
      ],
      "metadata": {
        "id": "aR7TWyqgZUDg"
      }
    },
    {
      "cell_type": "code",
      "source": [
        "x = np.array([1, 5, 3, 8, 6, 5, 7, 4])\n",
        "var = 5\n",
        "\n",
        "x[x > var] = 1\n",
        "\n",
        "x[x < var] = -1\n",
        "\n",
        "x[x == var] = 0\n",
        "print(x)\n"
      ],
      "metadata": {
        "id": "oPzL69Fbg2Wq",
        "outputId": "2c02e1d5-8f5e-4c85-d5eb-09453c27e7e1",
        "colab": {
          "base_uri": "https://localhost:8080/"
        }
      },
      "execution_count": 19,
      "outputs": [
        {
          "output_type": "stream",
          "name": "stdout",
          "text": [
            "[-1  0 -1 -1 -1  0 -1 -1]\n"
          ]
        }
      ]
    },
    {
      "cell_type": "markdown",
      "source": [
        "#Task 7\nWymień pominięte wartości macierzy (np.nan) przez -1\n\nPatrz np.isnan"
      ],
      "metadata": {
        "id": "Ks3Rtc7kajMJ"
      }
    },
    {
      "cell_type": "code",
      "source": [
        "X = np.array([[1, 2, np.nan, 4],\n",
        "              [5, np.nan, np.nan, 4],\n",
        "              [np.nan, 10, 11, np.nan]])\n",
        "\n",
        "X[np.isnan(X)] = -1\n",
        "print(X)"
      ],
      "metadata": {
        "id": "Rr8CdINEg3Rj",
        "outputId": "a0d9236b-b447-4186-e445-fad7445180cb",
        "colab": {
          "base_uri": "https://localhost:8080/"
        }
      },
      "execution_count": 20,
      "outputs": [
        {
          "output_type": "stream",
          "name": "stdout",
          "text": [
            "[[ 1.  2. -1.  4.]\n",
            " [ 5. -1. -1.  4.]\n",
            " [-1. 10. 11. -1.]]\n"
          ]
        }
      ]
    },
    {
      "cell_type": "markdown",
      "source": [
        "#Task 8\nUtwórz macierz rozmiaru 4x6 z liczbami losowymi. Zmień jego rozmiar na 3x8"
      ],
      "metadata": {
        "id": "teYwjikMa0gs"
      }
    },
    {
      "cell_type": "code",
      "source": [
        "rmat = np.random.randint(1,10,(4,6))\n",
        "print(rmat)\n",
        "print()\n",
        "print(rmat.reshape(3,8))"
      ],
      "metadata": {
        "id": "JhNvUJwxhXED",
        "outputId": "e9133f71-771e-4911-bdf0-889cccffc695",
        "colab": {
          "base_uri": "https://localhost:8080/"
        }
      },
      "execution_count": 22,
      "outputs": [
        {
          "output_type": "stream",
          "name": "stdout",
          "text": [
            "[[2 7 3 8 8 7]\n",
            " [3 6 5 1 2 6]\n",
            " [1 1 9 2 7 7]\n",
            " [9 7 8 1 4 1]]\n",
            "\n",
            "[[2 7 3 8 8 7 3 6]\n",
            " [5 1 2 6 1 1 9 2]\n",
            " [7 7 9 7 8 1 4 1]]\n"
          ]
        }
      ]
    },
    {
      "cell_type": "markdown",
      "source": [
        "#Task 9\nUtwórz matrycę 3x4 jednostek. Znajdź średnią arytmetyczną (średnią) każdej kolumny"
      ],
      "metadata": {
        "id": "jVE8280acszi"
      }
    },
    {
      "cell_type": "code",
      "source": [
        "q3 = np.random.randint(0,10,(3,4))\n",
        "print(q3)\n",
        "print()\n",
        "print(q3.mean(axis = 0))"
      ],
      "metadata": {
        "id": "5QI6HPNHhXd4",
        "outputId": "b82e4d4c-c22d-4a93-e6b0-e52dd1550d73",
        "colab": {
          "base_uri": "https://localhost:8080/"
        }
      },
      "execution_count": 26,
      "outputs": [
        {
          "output_type": "stream",
          "name": "stdout",
          "text": [
            "[[9 1 9 0]\n",
            " [1 5 6 3]\n",
            " [8 7 4 2]]\n",
            "\n",
            "[6.         4.33333333 6.33333333 1.66666667]\n"
          ]
        }
      ]
    },
    {
      "cell_type": "markdown",
      "source": [
        "#Task 10\nUtwórz losową matrycę w rozmiarze 5x6. Zaokrąglij wartość jednego znaku po przecinku (np.round). Umieść kolumny, aby wartości w pierwszym rzędzie były sortowane według wzrostu"
      ],
      "metadata": {
        "id": "nK6LwLjfc9aC"
      }
    },
    {
      "cell_type": "code",
      "source": [
        "q4 = np.random.randint(0,10,(5,6))\n",
        "print(q4)\n",
        "print()\n",
        "q4 = np.sort(q4, axis = 1)\n",
        "print(q4)"
      ],
      "metadata": {
        "id": "pERBNp12hX58",
        "outputId": "3a81e4e4-8e7e-43c5-9eb1-47ed5bed1d84",
        "colab": {
          "base_uri": "https://localhost:8080/"
        }
      },
      "execution_count": 34,
      "outputs": [
        {
          "output_type": "stream",
          "name": "stdout",
          "text": [
            "[[2 0 2 2 0 9]\n",
            " [4 1 9 1 4 3]\n",
            " [9 5 6 0 9 5]\n",
            " [9 2 9 5 4 7]\n",
            " [9 3 3 0 8 1]]\n",
            "\n",
            "[[0 0 2 2 2 9]\n",
            " [1 1 3 4 4 9]\n",
            " [0 5 5 6 9 9]\n",
            " [2 4 5 7 9 9]\n",
            " [0 1 3 3 8 9]]\n"
          ]
        }
      ]
    },
    {
      "cell_type": "markdown",
      "source": [
        "#Task 11\nW tej matrycy znajdź wszystkie elementy o wartości od 3 do 6\n\nZobacz dokumentację np.logical_and"
      ],
      "metadata": {
        "id": "faCqq4bxiXsg"
      }
    },
    {
      "cell_type": "code",
      "source": [
        "X = np.array([[1, 2, 3, 4, 5],\n",
        "              [6, 7, 8, 9, 10],\n",
        "              [9, 8, 7, 6, 5],\n",
        "              [4, 3, 2, 1, 0]])\n",
        "\n",
        "mask = np.logical_and(X > 3, X < 6)\n",
        "print(X[mask])"
      ],
      "metadata": {
        "id": "01ZY_c-tilOF",
        "outputId": "abf4d7e6-22fa-4e2a-c4eb-e947ac67677f",
        "colab": {
          "base_uri": "https://localhost:8080/"
        }
      },
      "execution_count": 35,
      "outputs": [
        {
          "output_type": "stream",
          "name": "stdout",
          "text": [
            "[4 5 5 4]\n"
          ]
        }
      ]
    },
    {
      "cell_type": "markdown",
      "source": [
        "#Task 12\nUtwórz losową matrycę rozmiaru 5x6. Normalizuj kolumny: Odejmij wartość minimalną od każdego elementu stawu i podziel wynik przez różnicę między elementem maksymalnym i minimalnym tej kolumny.\n\nNastępnie wszystkie wartości muszą znajdować się w ciągu [0, 1]"
      ],
      "metadata": {
        "id": "cCZSaa3DMKxb"
      }
    },
    {
      "cell_type": "code",
      "source": [
        "rm = np.random.randint(0,100,(5,6))\n",
        "print(rm)\n",
        "print()\n",
        "rm = ((rm - rm.min()) / ((rm.max() - rm.min())))\n",
        "print(rm.round(2))"
      ],
      "metadata": {
        "id": "qnOYOAgOMqRi",
        "outputId": "eff29325-702a-4693-8ae2-67cdd8d89609",
        "colab": {
          "base_uri": "https://localhost:8080/"
        }
      },
      "execution_count": 44,
      "outputs": [
        {
          "output_type": "stream",
          "name": "stdout",
          "text": [
            "[[67 41 63  3 36 58]\n",
            " [25 64  3 52 31 83]\n",
            " [29 33 76 88 10 37]\n",
            " [40 66 63 34 79 93]\n",
            " [98 28 98 62 89 98]]\n",
            "\n",
            "[[0.67 0.4  0.63 0.   0.35 0.58]\n",
            " [0.23 0.64 0.   0.52 0.29 0.84]\n",
            " [0.27 0.32 0.77 0.89 0.07 0.36]\n",
            " [0.39 0.66 0.63 0.33 0.8  0.95]\n",
            " [1.   0.26 1.   0.62 0.91 1.  ]]\n"
          ]
        }
      ]
    }
  ]
}