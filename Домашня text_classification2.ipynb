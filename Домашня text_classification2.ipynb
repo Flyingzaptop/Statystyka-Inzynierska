{
  "nbformat": 4,
  "nbformat_minor": 0,
  "metadata": {
    "colab": {
      "provenance": [],
      "include_colab_link": true
    },
    "kernelspec": {
      "name": "python3",
      "display_name": "Python 3"
    },
    "language_info": {
      "name": "python"
    }
  },
  "cells": [
    {
      "cell_type": "markdown",
      "metadata": {
        "id": "view-in-github",
        "colab_type": "text"
      },
      "source": [
        "<a href = \"https://colab.research.google.com/github/flyingzaptop/pyton-colab/blob/main/%D0%94%D0%Beering Target =\" _ Parent \"> <mmg src =\" https://colab.research.google.com/assets/colab-badge.svg \" Colab \"/> </a>"
      ]
    },
    {
      "cell_type": "markdown",
      "source": [
        "# Zadanie\n\n* Pobierz dane\n* Podziel dane na szkolenie i testuj\n*W `MyTokenizer 'Dodaj przetwarzanie tekstu za pomocą„ nltk`, zastosuj ** ostatecznie **\n* Zastosuj „tfidfvectorizer”\n* Zastosuj `Truncedsvd`\n* Stink the Model [SVC] (https://scit-loearn.org/stable/modules/genered/sklearn.svm.svc.html#sklearn.svm.svc) z parametrem „Kernel”\n* Wyłóż wyniki"
      ],
      "metadata": {
        "id": "5QELje_64yp4"
      }
    },
    {
      "cell_type": "markdown",
      "source": [
        "#Dane dotyczące telegramów"
      ],
      "metadata": {
        "id": "c0s4j60x4tLg"
      }
    },
    {
      "cell_type": "code",
      "execution_count": 4,
      "metadata": {
        "id": "QZ3aCzvW39j7",
        "outputId": "c4d9598f-d44f-422b-ec70-10496f3a0c25",
        "colab": {
          "base_uri": "https://localhost:8080/"
        }
      },
      "outputs": [
        {
          "output_type": "stream",
          "name": "stderr",
          "text": [
            "[nltk_data] Downloading package wordnet to /root/nltk_data...\n",
            "[nltk_data]   Package wordnet is already up-to-date!\n",
            "[nltk_data] Downloading package omw-1.4 to /root/nltk_data...\n",
            "[nltk_data]   Package omw-1.4 is already up-to-date!\n",
            "[nltk_data] Downloading package punkt_tab to /root/nltk_data...\n",
            "[nltk_data]   Unzipping tokenizers/punkt_tab.zip.\n"
          ]
        }
      ],
      "source": [
        "import pandas as pd\n",
        "from sklearn.model_selection import train_test_split\n",
        "from sklearn.feature_extraction.text import TfidfVectorizer\n",
        "from sklearn.decomposition import TruncatedSVD\n",
        "from sklearn.svm import SVC\n",
        "from sklearn.metrics import classification_report\n",
        "import nltk\n",
        "from nltk.stem import WordNetLemmatizer\n",
        "\n",
        "nltk.download('wordnet')\n",
        "nltk.download('omw-1.4')\n",
        "nltk.download('punkt_tab')\n",
        "\n",
        "df = pd.read_csv(\"https://raw.githubusercontent.com/HalyshAnton/IT-Step-Pyton-AI/main/module6/data/telegram_spam.csv\")"
      ]
    },
    {
      "cell_type": "code",
      "source": [
        "X_train, X_test, y_train, y_test = train_test_split(df['text'], df['text_type'], test_size=0.2, random_state=42)\n",
        "\n",
        "\n",
        "class MyTokenizer:\n",
        "    def __init__(self):\n",
        "        self.lemmatizer = WordNetLemmatizer()\n",
        "\n",
        "    def __call__(self, doc):\n",
        "        tokens = nltk.word_tokenize(doc)\n",
        "        lemmas = [self.lemmatizer.lemmatize(token) for token in tokens]\n",
        "        return lemmas\n",
        "\n",
        "\n",
        "vectorizer = TfidfVectorizer(tokenizer=MyTokenizer(), max_features=5000)\n",
        "X_train_vec = vectorizer.fit_transform(X_train)\n",
        "X_test_vec = vectorizer.transform(X_test)\n",
        "\n",
        "svd = TruncatedSVD(n_components=300, random_state=42)\n",
        "X_train_svd = svd.fit_transform(X_train_vec)\n",
        "X_test_svd = svd.transform(X_test_vec)\n",
        "\n",
        "\n",
        "model = SVC(kernel=\"linear\", random_state=42)\n",
        "model.fit(X_train_svd, y_train)\n",
        "\n",
        "y_pred = model.predict(X_test_svd)\n",
        "\n",
        "print(classification_report(y_test, y_pred))"
      ],
      "metadata": {
        "id": "3jbSA7lrW2Lw",
        "outputId": "17a0017c-bde0-4de2-f133-13698ff140e6",
        "colab": {
          "base_uri": "https://localhost:8080/"
        }
      },
      "execution_count": 5,
      "outputs": [
        {
          "output_type": "stream",
          "name": "stderr",
          "text": [
            "/usr/local/lib/python3.10/dist-packages/sklearn/feature_extraction/text.py:521: UserWarning: The parameter 'token_pattern' will not be used since 'tokenizer' is not None'\n",
            "  warnings.warn(\n"
          ]
        },
        {
          "output_type": "stream",
          "name": "stdout",
          "text": [
            "              precision    recall  f1-score   support\n",
            "\n",
            "         ham       0.94      0.96      0.95      2913\n",
            "        spam       0.90      0.84      0.87      1157\n",
            "\n",
            "    accuracy                           0.93      4070\n",
            "   macro avg       0.92      0.90      0.91      4070\n",
            "weighted avg       0.93      0.93      0.93      4070\n",
            "\n"
          ]
        }
      ]
    }
  ]
}