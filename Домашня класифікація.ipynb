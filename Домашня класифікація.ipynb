{
  "nbformat": 4,
  "nbformat_minor": 0,
  "metadata": {
    "colab": {
      "provenance": [],
      "include_colab_link": true
    },
    "kernelspec": {
      "name": "python3",
      "display_name": "Python 3"
    },
    "language_info": {
      "name": "python"
    }
  },
  "cells": [
    {
      "cell_type": "markdown",
      "metadata": {
        "id": "view-in-github",
        "colab_type": "text"
      },
      "source": [
        "<a href = \"https://colab.research.google.com/github/flyingzaptop/python-colab/blob/main/%D0%94%D0%BE%D0%BC%D 0%B0%D1%88%D0%BD%D1%8f%20%D0%BA%D0%BB%D0%D1%81%D0%B8%D1%84%D1%96%D0%D0%B0%D1%86%D1%D1%Target = \"_ Parent\" „https://colab.research.google.com/assets/colab-badge.svg” alt = \"Otwórz w colab\"/> </a>"
      ]
    },
    {
      "cell_type": "markdown",
      "source": [
        "Import modułów"
      ],
      "metadata": {
        "id": "w1r0k1UheNCz"
      }
    },
    {
      "cell_type": "code",
      "execution_count": 1,
      "metadata": {
        "id": "4XxgJqCDoExm"
      },
      "outputs": [],
      "source": [
        "import torch\n",
        "import pandas as pd\n",
        "\n",
        "device = \"cuda\" if torch.cuda.is_available() else \"cpu\"\n",
        "torch.set_default_device(device)"
      ]
    },
    {
      "cell_type": "markdown",
      "source": [
        "Dane bananowe"
      ],
      "metadata": {
        "id": "Kpk2KycTeQEE"
      }
    },
    {
      "cell_type": "code",
      "source": [
        "# трохи обробки даних\n",
        "df = pd.read_csv('https://raw.githubusercontent.com/HalyshAnton/IT-Step-Pyton-AI/main/module3/data/banana_quality.csv')\n",
        "\n",
        "df['Quality'] = df['Quality'].map({'Good': 1, 'Bad': 0})\n",
        "\n",
        "columns = df.columns.delete(-1)\n",
        "data = df[columns]\n",
        "df[columns] = (data - data.min()) / (data.max() - data.min())"
      ],
      "metadata": {
        "id": "926S2f5pdnH6"
      },
      "execution_count": 2,
      "outputs": []
    },
    {
      "cell_type": "code",
      "source": [
        "df.head()"
      ],
      "metadata": {
        "colab": {
          "base_uri": "https://localhost:8080/",
          "height": 206
        },
        "id": "eG6_dawddqwd",
        "outputId": "1ca21b78-5242-4276-8012-f0d14cb68075"
      },
      "execution_count": 3,
      "outputs": [
        {
          "output_type": "execute_result",
          "data": {
            "text/plain": [
              "       Size    Weight  Sweetness  Softness  HarvestTime  Ripeness   Acidity  \\\n",
              "0  0.380309  0.626747   0.680712  0.360975     0.567312  0.671933  0.543416   \n",
              "1  0.349951  0.628093   0.485275  0.293682     0.481689  0.646850  0.545720   \n",
              "2  0.478460  0.699448   0.572694  0.283811     0.499358  0.716580  0.617337   \n",
              "3  0.446465  0.705394   0.595677  0.374028     0.473461  0.633590  0.556625   \n",
              "4  0.541672  0.687704   0.458841  0.378242     0.442847  0.579430  0.705908   \n",
              "\n",
              "   Quality  \n",
              "0        1  \n",
              "1        1  \n",
              "2        1  \n",
              "3        1  \n",
              "4        1  "
            ],
            "text/html": [
              "\n",
              "  <div id=\"df-64756d23-6288-4831-929e-20c1baa5c606\" class=\"colab-df-container\">\n",
              "    <div>\n",
              "<style scoped>\n",
              "    .dataframe tbody tr th:only-of-type {\n",
              "        vertical-align: middle;\n",
              "    }\n",
              "\n",
              "    .dataframe tbody tr th {\n",
              "        vertical-align: top;\n",
              "    }\n",
              "\n",
              "    .dataframe thead th {\n",
              "        text-align: right;\n",
              "    }\n",
              "</style>\n",
              "<table border=\"1\" class=\"dataframe\">\n",
              "  <thead>\n",
              "    <tr style=\"text-align: right;\">\n",
              "      <th></th>\n",
              "      <th>Size</th>\n",
              "      <th>Weight</th>\n",
              "      <th>Sweetness</th>\n",
              "      <th>Softness</th>\n",
              "      <th>HarvestTime</th>\n",
              "      <th>Ripeness</th>\n",
              "      <th>Acidity</th>\n",
              "      <th>Quality</th>\n",
              "    </tr>\n",
              "  </thead>\n",
              "  <tbody>\n",
              "    <tr>\n",
              "      <th>0</th>\n",
              "      <td>0.380309</td>\n",
              "      <td>0.626747</td>\n",
              "      <td>0.680712</td>\n",
              "      <td>0.360975</td>\n",
              "      <td>0.567312</td>\n",
              "      <td>0.671933</td>\n",
              "      <td>0.543416</td>\n",
              "      <td>1</td>\n",
              "    </tr>\n",
              "    <tr>\n",
              "      <th>1</th>\n",
              "      <td>0.349951</td>\n",
              "      <td>0.628093</td>\n",
              "      <td>0.485275</td>\n",
              "      <td>0.293682</td>\n",
              "      <td>0.481689</td>\n",
              "      <td>0.646850</td>\n",
              "      <td>0.545720</td>\n",
              "      <td>1</td>\n",
              "    </tr>\n",
              "    <tr>\n",
              "      <th>2</th>\n",
              "      <td>0.478460</td>\n",
              "      <td>0.699448</td>\n",
              "      <td>0.572694</td>\n",
              "      <td>0.283811</td>\n",
              "      <td>0.499358</td>\n",
              "      <td>0.716580</td>\n",
              "      <td>0.617337</td>\n",
              "      <td>1</td>\n",
              "    </tr>\n",
              "    <tr>\n",
              "      <th>3</th>\n",
              "      <td>0.446465</td>\n",
              "      <td>0.705394</td>\n",
              "      <td>0.595677</td>\n",
              "      <td>0.374028</td>\n",
              "      <td>0.473461</td>\n",
              "      <td>0.633590</td>\n",
              "      <td>0.556625</td>\n",
              "      <td>1</td>\n",
              "    </tr>\n",
              "    <tr>\n",
              "      <th>4</th>\n",
              "      <td>0.541672</td>\n",
              "      <td>0.687704</td>\n",
              "      <td>0.458841</td>\n",
              "      <td>0.378242</td>\n",
              "      <td>0.442847</td>\n",
              "      <td>0.579430</td>\n",
              "      <td>0.705908</td>\n",
              "      <td>1</td>\n",
              "    </tr>\n",
              "  </tbody>\n",
              "</table>\n",
              "</div>\n",
              "    <div class=\"colab-df-buttons\">\n",
              "\n",
              "  <div class=\"colab-df-container\">\n",
              "    <button class=\"colab-df-convert\" onclick=\"convertToInteractive('df-64756d23-6288-4831-929e-20c1baa5c606')\"\n",
              "            title=\"Convert this dataframe to an interactive table.\"\n",
              "            style=\"display:none;\">\n",
              "\n",
              "  <svg xmlns=\"http://www.w3.org/2000/svg\" height=\"24px\" viewBox=\"0 -960 960 960\">\n",
              "    <path d=\"M120-120v-720h720v720H120Zm60-500h600v-160H180v160Zm220 220h160v-160H400v160Zm0 220h160v-160H400v160ZM180-400h160v-160H180v160Zm440 0h160v-160H620v160ZM180-180h160v-160H180v160Zm440 0h160v-160H620v160Z\"/>\n",
              "  </svg>\n",
              "    </button>\n",
              "\n",
              "  <style>\n",
              "    .colab-df-container {\n",
              "      display:flex;\n",
              "      gap: 12px;\n",
              "    }\n",
              "\n",
              "    .colab-df-convert {\n",
              "      background-color: #E8F0FE;\n",
              "      border: none;\n",
              "      border-radius: 50%;\n",
              "      cursor: pointer;\n",
              "      display: none;\n",
              "      fill: #1967D2;\n",
              "      height: 32px;\n",
              "      padding: 0 0 0 0;\n",
              "      width: 32px;\n",
              "    }\n",
              "\n",
              "    .colab-df-convert:hover {\n",
              "      background-color: #E2EBFA;\n",
              "      box-shadow: 0px 1px 2px rgba(60, 64, 67, 0.3), 0px 1px 3px 1px rgba(60, 64, 67, 0.15);\n",
              "      fill: #174EA6;\n",
              "    }\n",
              "\n",
              "    .colab-df-buttons div {\n",
              "      margin-bottom: 4px;\n",
              "    }\n",
              "\n",
              "    [theme=dark] .colab-df-convert {\n",
              "      background-color: #3B4455;\n",
              "      fill: #D2E3FC;\n",
              "    }\n",
              "\n",
              "    [theme=dark] .colab-df-convert:hover {\n",
              "      background-color: #434B5C;\n",
              "      box-shadow: 0px 1px 3px 1px rgba(0, 0, 0, 0.15);\n",
              "      filter: drop-shadow(0px 1px 2px rgba(0, 0, 0, 0.3));\n",
              "      fill: #FFFFFF;\n",
              "    }\n",
              "  </style>\n",
              "\n",
              "    <script>\n",
              "      const buttonEl =\n",
              "        document.querySelector('#df-64756d23-6288-4831-929e-20c1baa5c606 button.colab-df-convert');\n",
              "      buttonEl.style.display =\n",
              "        google.colab.kernel.accessAllowed ? 'block' : 'none';\n",
              "\n",
              "      async function convertToInteractive(key) {\n",
              "        const element = document.querySelector('#df-64756d23-6288-4831-929e-20c1baa5c606');\n",
              "        const dataTable =\n",
              "          await google.colab.kernel.invokeFunction('convertToInteractive',\n",
              "                                                    [key], {});\n",
              "        if (!dataTable) return;\n",
              "\n",
              "        const docLinkHtml = 'Like what you see? Visit the ' +\n",
              "          '<a target=\"_blank\" href=https://colab.research.google.com/notebooks/data_table.ipynb>data table notebook</a>'\n",
              "          + ' to learn more about interactive tables.';\n",
              "        element.innerHTML = '';\n",
              "        dataTable['output_type'] = 'display_data';\n",
              "        await google.colab.output.renderOutput(dataTable, element);\n",
              "        const docLink = document.createElement('div');\n",
              "        docLink.innerHTML = docLinkHtml;\n",
              "        element.appendChild(docLink);\n",
              "      }\n",
              "    </script>\n",
              "  </div>\n",
              "\n",
              "\n",
              "<div id=\"df-d4413b3b-9ea2-4a04-b03d-8e1ca9acede5\">\n",
              "  <button class=\"colab-df-quickchart\" onclick=\"quickchart('df-d4413b3b-9ea2-4a04-b03d-8e1ca9acede5')\"\n",
              "            title=\"Suggest charts\"\n",
              "            style=\"display:none;\">\n",
              "\n",
              "<svg xmlns=\"http://www.w3.org/2000/svg\" height=\"24px\"viewBox=\"0 0 24 24\"\n",
              "     width=\"24px\">\n",
              "    <g>\n",
              "        <path d=\"M19 3H5c-1.1 0-2 .9-2 2v14c0 1.1.9 2 2 2h14c1.1 0 2-.9 2-2V5c0-1.1-.9-2-2-2zM9 17H7v-7h2v7zm4 0h-2V7h2v10zm4 0h-2v-4h2v4z\"/>\n",
              "    </g>\n",
              "</svg>\n",
              "  </button>\n",
              "\n",
              "<style>\n",
              "  .colab-df-quickchart {\n",
              "      --bg-color: #E8F0FE;\n",
              "      --fill-color: #1967D2;\n",
              "      --hover-bg-color: #E2EBFA;\n",
              "      --hover-fill-color: #174EA6;\n",
              "      --disabled-fill-color: #AAA;\n",
              "      --disabled-bg-color: #DDD;\n",
              "  }\n",
              "\n",
              "  [theme=dark] .colab-df-quickchart {\n",
              "      --bg-color: #3B4455;\n",
              "      --fill-color: #D2E3FC;\n",
              "      --hover-bg-color: #434B5C;\n",
              "      --hover-fill-color: #FFFFFF;\n",
              "      --disabled-bg-color: #3B4455;\n",
              "      --disabled-fill-color: #666;\n",
              "  }\n",
              "\n",
              "  .colab-df-quickchart {\n",
              "    background-color: var(--bg-color);\n",
              "    border: none;\n",
              "    border-radius: 50%;\n",
              "    cursor: pointer;\n",
              "    display: none;\n",
              "    fill: var(--fill-color);\n",
              "    height: 32px;\n",
              "    padding: 0;\n",
              "    width: 32px;\n",
              "  }\n",
              "\n",
              "  .colab-df-quickchart:hover {\n",
              "    background-color: var(--hover-bg-color);\n",
              "    box-shadow: 0 1px 2px rgba(60, 64, 67, 0.3), 0 1px 3px 1px rgba(60, 64, 67, 0.15);\n",
              "    fill: var(--button-hover-fill-color);\n",
              "  }\n",
              "\n",
              "  .colab-df-quickchart-complete:disabled,\n",
              "  .colab-df-quickchart-complete:disabled:hover {\n",
              "    background-color: var(--disabled-bg-color);\n",
              "    fill: var(--disabled-fill-color);\n",
              "    box-shadow: none;\n",
              "  }\n",
              "\n",
              "  .colab-df-spinner {\n",
              "    border: 2px solid var(--fill-color);\n",
              "    border-color: transparent;\n",
              "    border-bottom-color: var(--fill-color);\n",
              "    animation:\n",
              "      spin 1s steps(1) infinite;\n",
              "  }\n",
              "\n",
              "  @keyframes spin {\n",
              "    0% {\n",
              "      border-color: transparent;\n",
              "      border-bottom-color: var(--fill-color);\n",
              "      border-left-color: var(--fill-color);\n",
              "    }\n",
              "    20% {\n",
              "      border-color: transparent;\n",
              "      border-left-color: var(--fill-color);\n",
              "      border-top-color: var(--fill-color);\n",
              "    }\n",
              "    30% {\n",
              "      border-color: transparent;\n",
              "      border-left-color: var(--fill-color);\n",
              "      border-top-color: var(--fill-color);\n",
              "      border-right-color: var(--fill-color);\n",
              "    }\n",
              "    40% {\n",
              "      border-color: transparent;\n",
              "      border-right-color: var(--fill-color);\n",
              "      border-top-color: var(--fill-color);\n",
              "    }\n",
              "    60% {\n",
              "      border-color: transparent;\n",
              "      border-right-color: var(--fill-color);\n",
              "    }\n",
              "    80% {\n",
              "      border-color: transparent;\n",
              "      border-right-color: var(--fill-color);\n",
              "      border-bottom-color: var(--fill-color);\n",
              "    }\n",
              "    90% {\n",
              "      border-color: transparent;\n",
              "      border-bottom-color: var(--fill-color);\n",
              "    }\n",
              "  }\n",
              "</style>\n",
              "\n",
              "  <script>\n",
              "    async function quickchart(key) {\n",
              "      const quickchartButtonEl =\n",
              "        document.querySelector('#' + key + ' button');\n",
              "      quickchartButtonEl.disabled = true;  // To prevent multiple clicks.\n",
              "      quickchartButtonEl.classList.add('colab-df-spinner');\n",
              "      try {\n",
              "        const charts = await google.colab.kernel.invokeFunction(\n",
              "            'suggestCharts', [key], {});\n",
              "      } catch (error) {\n",
              "        console.error('Error during call to suggestCharts:', error);\n",
              "      }\n",
              "      quickchartButtonEl.classList.remove('colab-df-spinner');\n",
              "      quickchartButtonEl.classList.add('colab-df-quickchart-complete');\n",
              "    }\n",
              "    (() => {\n",
              "      let quickchartButtonEl =\n",
              "        document.querySelector('#df-d4413b3b-9ea2-4a04-b03d-8e1ca9acede5 button');\n",
              "      quickchartButtonEl.style.display =\n",
              "        google.colab.kernel.accessAllowed ? 'block' : 'none';\n",
              "    })();\n",
              "  </script>\n",
              "</div>\n",
              "\n",
              "    </div>\n",
              "  </div>\n"
            ],
            "application/vnd.google.colaboratory.intrinsic+json": {
              "type": "dataframe",
              "variable_name": "df",
              "summary": "{\n  \"name\": \"df\",\n  \"rows\": 8000,\n  \"fields\": [\n    {\n      \"column\": \"Size\",\n      \"properties\": {\n        \"dtype\": \"number\",\n        \"std\": 0.13376164104570223,\n        \"min\": 0.0,\n        \"max\": 1.0,\n        \"num_unique_values\": 8000,\n        \"samples\": [\n          0.42681145207858734,\n          0.3636982670161966,\n          0.499762917535701\n        ],\n        \"semantic_type\": \"\",\n        \"description\": \"\"\n      }\n    },\n    {\n      \"column\": \"Weight\",\n      \"properties\": {\n        \"dtype\": \"number\",\n        \"std\": 0.1443800353120914,\n        \"min\": 0.0,\n        \"max\": 1.0,\n        \"num_unique_values\": 8000,\n        \"samples\": [\n          0.4841220755822623,\n          0.3920386495614671,\n          0.6782758184058177\n        ],\n        \"semantic_type\": \"\",\n        \"description\": \"\"\n      }\n    },\n    {\n      \"column\": \"Sweetness\",\n      \"properties\": {\n        \"dtype\": \"number\",\n        \"std\": 0.139440330263052,\n        \"min\": 0.0,\n        \"max\": 1.0,\n        \"num_unique_values\": 8000,\n        \"samples\": [\n          0.36090872114798445,\n          0.36065713591231285,\n          0.8009020355861252\n        ],\n        \"semantic_type\": \"\",\n        \"description\": \"\"\n      }\n    },\n    {\n      \"column\": \"Softness\",\n      \"properties\": {\n        \"dtype\": \"number\",\n        \"std\": 0.13586165261235447,\n        \"min\": 0.0,\n        \"max\": 1.0,\n        \"num_unique_values\": 8000,\n        \"samples\": [\n          0.401850667197794,\n          0.6292820414425365,\n          0.5282198762431736\n        ],\n        \"semantic_type\": \"\",\n        \"description\": \"\"\n      }\n    },\n    {\n      \"column\": \"HarvestTime\",\n      \"properties\": {\n        \"dtype\": \"number\",\n        \"std\": 0.14402504977190084,\n        \"min\": 0.0,\n        \"max\": 1.0,\n        \"num_unique_values\": 8000,\n        \"samples\": [\n          0.5361941697483128,\n          0.5448621509948689,\n          0.3653719803259087\n        ],\n        \"semantic_type\": \"\",\n        \"description\": \"\"\n      }\n    },\n    {\n      \"column\": \"Ripeness\",\n      \"properties\": {\n        \"dtype\": \"number\",\n        \"std\": 0.14410183790320652,\n        \"min\": 0.0,\n        \"max\": 1.0,\n        \"num_unique_values\": 8000,\n        \"samples\": [\n          0.6648203981671774,\n          0.883346239383179,\n          0.4348136864214833\n        ],\n        \"semantic_type\": \"\",\n        \"description\": \"\"\n      }\n    },\n    {\n      \"column\": \"Acidity\",\n      \"properties\": {\n        \"dtype\": \"number\",\n        \"std\": 0.14665411857025107,\n        \"min\": 0.0,\n        \"max\": 1.0,\n        \"num_unique_values\": 8000,\n        \"samples\": [\n          0.40913510826297517,\n          0.21012956362075774,\n          0.6885939962504982\n        ],\n        \"semantic_type\": \"\",\n        \"description\": \"\"\n      }\n    },\n    {\n      \"column\": \"Quality\",\n      \"properties\": {\n        \"dtype\": \"number\",\n        \"std\": 0,\n        \"min\": 0,\n        \"max\": 1,\n        \"num_unique_values\": 2,\n        \"samples\": [\n          0,\n          1\n        ],\n        \"semantic_type\": \"\",\n        \"description\": \"\"\n      }\n    }\n  ]\n}"
            }
          },
          "metadata": {},
          "execution_count": 3
        }
      ]
    },
    {
      "cell_type": "markdown",
      "source": [
        "Musisz przewidzieć jego jakość „jakość” na podstawie informacji o bananie"
      ],
      "metadata": {
        "id": "KAmkR_CFejgQ"
      }
    },
    {
      "cell_type": "markdown",
      "source": [
        "# Zadanie 1\nUtwórz klasę zestawu danych do szkolenia i testów testowych"
      ],
      "metadata": {
        "id": "dBt0E5BJe6OK"
      }
    },
    {
      "cell_type": "code",
      "source": [
        "from torch.utils.data import Dataset\n",
        "from sklearn.model_selection import train_test_split\n",
        "\n",
        "class MyDataset(Dataset):\n",
        "    def __init__(self, X, y):\n",
        "      self.X = torch.FloatTensor(X.values)\n",
        "      self.y = torch.FloatTensor(y.values)\n",
        "      self.y = self.y.reshape(-1, 1)\n",
        "\n",
        "    def __len__(self):\n",
        "      return len(self.X)\n",
        "\n",
        "    def __getitem__(self, idx):\n",
        "      return self.X[idx], self.y[idx]\n",
        "\n",
        "# Create dataset object\n",
        "X = df.drop(columns=['Quality'])\n",
        "y = df['Quality']\n",
        "\n",
        "dataset = MyDataset(X, y)"
      ],
      "metadata": {
        "id": "vFtu1Wd1drwJ"
      },
      "execution_count": 4,
      "outputs": []
    },
    {
      "cell_type": "code",
      "source": [
        "X_train, X_test, y_train, y_test = train_test_split(X, y,\n",
        "                                                    train_size=0.8,\n",
        "                                                    random_state=42,\n",
        "                                                    stratify=y)\n",
        "\n",
        "dataset_train = MyDataset(X_train, y_train)\n",
        "dataset_test = MyDataset(X_test, y_test)"
      ],
      "metadata": {
        "id": "ezNN-Cre3xzz"
      },
      "execution_count": 7,
      "outputs": []
    },
    {
      "cell_type": "markdown",
      "source": [
        "## weryfikacja"
      ],
      "metadata": {
        "id": "Tv3mBJBTaWp9"
      }
    },
    {
      "cell_type": "code",
      "source": [
        "def check_initialization(X, y):\n",
        "    try:\n",
        "        dataset = MyDataset(X, y)\n",
        "        if torch.is_tensor(dataset.X) and torch.is_tensor(dataset.y):\n",
        "            print(\"[OK] Ініціалізація коректна.\")\n",
        "        else:\n",
        "            print(\"[FAILED] Ініціалізація не вдалася: X або y не є тензорами.\")\n",
        "    except Exception as e:\n",
        "        print(f\"[FAILED] Помилка ініціалізації: {e}\")\n",
        "\n",
        "def check_y_shape(dataset):\n",
        "    if dataset.y.ndim == 2 and dataset.y.shape[1] == 1:\n",
        "        print(\"[OK] 'y' правильно перетворений на вектор-стовпець.\")\n",
        "    else:\n",
        "        print(f\"[FAILED] 'y' перетворений некоректно, поточна форма: {dataset.y.shape}\")\n",
        "\n",
        "def check_length(dataset, expected_length):\n",
        "    if len(dataset) == expected_length:\n",
        "        print(\"[OK] Перевірка довжини пройдена.\")\n",
        "    else:\n",
        "        print(f\"[FAILED] Перевірка довжини не вдалася. Очікувана довжина: {expected_length}, отримана: {len(dataset)}.\")\n",
        "\n",
        "def check_getitem(dataset, idx):\n",
        "    try:\n",
        "        X_item, y_item = dataset[idx]\n",
        "        if torch.is_tensor(X_item) and torch.is_tensor(y_item):\n",
        "            print(f\"[OK] Отримання елемента коректне для індексу {idx}.\")\n",
        "        else:\n",
        "            print(f\"[FAILED] Отримання елемента некоректне для індексу {idx}.\")\n",
        "    except Exception as e:\n",
        "        print(f\"[FAILED] Помилка у методі `__getitem__`: {e}\")\n",
        "\n",
        "def check_tensor_types(dataset):\n",
        "    if dataset.X.dtype == torch.float32 and dataset.y.dtype == torch.float32:\n",
        "        print(\"[OK] X та y збережені як FloatTensor.\")\n",
        "    else:\n",
        "        print(f\"[FAILED] Невідповідність типу тензорів: X має тип {dataset.X.dtype}, y має тип {dataset.y.dtype}.\")"
      ],
      "metadata": {
        "id": "xTZBmxdHaZAf"
      },
      "execution_count": 8,
      "outputs": []
    },
    {
      "cell_type": "code",
      "source": [
        "def main_checks():\n",
        "    print(\"\\n=== Виконання перевірок ===\")\n",
        "    check_initialization(X, y)\n",
        "    check_y_shape(dataset_train)\n",
        "    check_length(dataset_train, len(X_train))\n",
        "    check_getitem(dataset_train, 0)\n",
        "    check_tensor_types(dataset_train)\n",
        "    print(\"=== Перевірки завершені ===\\n\")\n",
        "\n",
        "\n",
        "main_checks()"
      ],
      "metadata": {
        "colab": {
          "base_uri": "https://localhost:8080/"
        },
        "id": "-ieMZa12aaWA",
        "outputId": "cef86ea9-652c-48ce-8a96-0a3e3d45c650"
      },
      "execution_count": 9,
      "outputs": [
        {
          "output_type": "stream",
          "name": "stdout",
          "text": [
            "\n",
            "=== Виконання перевірок ===\n",
            "[OK] Ініціалізація коректна.\n",
            "[OK] 'y' правильно перетворений на вектор-стовпець.\n",
            "[OK] Перевірка довжини пройдена.\n",
            "[OK] Отримання елемента коректне для індексу 0.\n",
            "[OK] X та y збережені як FloatTensor.\n",
            "=== Перевірки завершені ===\n",
            "\n"
          ]
        }
      ]
    },
    {
      "cell_type": "markdown",
      "source": [
        "# Zadanie 2\nUtwórz DataSaloader"
      ],
      "metadata": {
        "id": "zQlB_6WzfB8n"
      }
    },
    {
      "cell_type": "code",
      "source": [
        "from torch.utils.data import DataLoader\n",
        "\n",
        "batch_size = 128\n",
        "train_dl = DataLoader(dataset_train,\n",
        "                      batch_size=batch_size,\n",
        "                      shuffle=True)\n",
        "\n",
        "test_dl = DataLoader(dataset_test,\n",
        "                     batch_size=batch_size,\n",
        "                     shuffle=True)"
      ],
      "metadata": {
        "id": "-6-po4H4fZQy"
      },
      "execution_count": 10,
      "outputs": []
    },
    {
      "cell_type": "markdown",
      "source": [
        "## weryfikacja"
      ],
      "metadata": {
        "id": "DC9J0k-Yb7bq"
      }
    },
    {
      "cell_type": "code",
      "source": [
        "def check_batch_size(batch_size):\n",
        "    if isinstance(batch_size, int) and batch_size > 0:\n",
        "        print(f\"[OK] batch_size встановлений як {batch_size}.\")\n",
        "    else:\n",
        "        print(f\"[FAILED] batch_size некоректний, поточне значення: {batch_size}\")\n",
        "\n",
        "def check_dataloader_initialization(dataset, batch_size):\n",
        "    try:\n",
        "        dataloader = DataLoader(dataset, batch_size=batch_size, shuffle=True)\n",
        "        if isinstance(dataloader, DataLoader):\n",
        "            print(f\"[OK] DataLoader створений коректно з batch_size = {batch_size}.\")\n",
        "        else:\n",
        "            print(\"[FAILED] DataLoader не створений.\")\n",
        "    except Exception as e:\n",
        "        print(f\"[FAILED] Помилка під час ініціалізації DataLoader: {e}\")\n",
        "\n",
        "def check_dataloader_loading(dataloader, batch_size):\n",
        "    try:\n",
        "        for batch in dataloader:\n",
        "            print(f\"[OK] Форма ознак у батчі: {batch[0].shape}, Форма цільових змінних: {batch[1].shape}\")\n",
        "            if batch[0].shape[0] == batch_size or len(dataloader.dataset) % batch_size != 0:\n",
        "                print(f\"[OK] DataLoader завантажує дані пакетами по {batch_size}.\")\n",
        "            else:\n",
        "                print(f\"[FAILED] Розмір батчу некоректний, очікувано: {batch_size}\")\n",
        "            break\n",
        "    except Exception as e:\n",
        "        print(f\"[FAILED] Помилка під час завантаження DataLoader: {e}\")"
      ],
      "metadata": {
        "id": "_rfBWcgYb9WC"
      },
      "execution_count": 11,
      "outputs": []
    },
    {
      "cell_type": "code",
      "source": [
        "def main_checks_dataloader():\n",
        "    print(\"\\n=== Виконання перевірок DataLoader ===\")\n",
        "    check_batch_size(batch_size)\n",
        "    check_dataloader_initialization(dataset_train, batch_size)\n",
        "    check_dataloader_loading(train_dl, batch_size)\n",
        "    print(\"=== Перевірки завершені ===\\n\")\n",
        "\n",
        "main_checks_dataloader()"
      ],
      "metadata": {
        "colab": {
          "base_uri": "https://localhost:8080/"
        },
        "id": "LCQC4nPNb-bi",
        "outputId": "5b182c15-0e0a-406c-c0c5-3945a48bc6b6"
      },
      "execution_count": 12,
      "outputs": [
        {
          "output_type": "stream",
          "name": "stdout",
          "text": [
            "\n",
            "=== Виконання перевірок DataLoader ===\n",
            "[OK] batch_size встановлений як 128.\n",
            "[OK] DataLoader створений коректно з batch_size = 128.\n",
            "[OK] Форма ознак у батчі: torch.Size([128, 7]), Форма цільових змінних: torch.Size([128, 1])\n",
            "[OK] DataLoader завантажує дані пакетами по 128.\n",
            "=== Перевірки завершені ===\n",
            "\n"
          ]
        }
      ]
    },
    {
      "cell_type": "markdown",
      "source": [
        "# Zadanie 3\nUtwórz sieć neuronową"
      ],
      "metadata": {
        "id": "2W93LiDxfZrx"
      }
    },
    {
      "cell_type": "code",
      "source": [
        "import numpy as np\n",
        "from torch import nn\n",
        "import torch.nn.functional as F\n",
        "\n",
        "\n",
        "class BinaryClassifier(nn.Module):\n",
        "    def __init__(self, input_dim, hidden_dim, output_dim):\n",
        "        super().__init__()\n",
        "\n",
        "        self.linear1 = nn.Linear(input_dim, hidden_dim)\n",
        "        self.linear2 = nn.Linear(hidden_dim, output_dim)\n",
        "\n",
        "    def forward(self, x):\n",
        "        out = self.linear1(x)\n",
        "        out = F.relu(out)\n",
        "\n",
        "        out = self.linear2(out)\n",
        "        out = F.sigmoid(out)\n",
        "        return out\n",
        "\n",
        "    def predict(self, X, device='cpu'):\n",
        "        X = torch.FloatTensor(np.array(X)).to(device)\n",
        "\n",
        "        with torch.no_grad():\n",
        "          y_pred = self.forward(X)\n",
        "\n",
        "        return y_pred.cpu().numpy()\n",
        "\n",
        "\n",
        "model = BinaryClassifier(7, 100, 1).to(device)\n",
        "model"
      ],
      "metadata": {
        "id": "p9DHog7Xf7xE",
        "colab": {
          "base_uri": "https://localhost:8080/"
        },
        "outputId": "4bb490d3-f91f-4c00-b085-38424cd29143"
      },
      "execution_count": 13,
      "outputs": [
        {
          "output_type": "execute_result",
          "data": {
            "text/plain": [
              "BinaryClassifier(\n",
              "  (linear1): Linear(in_features=7, out_features=100, bias=True)\n",
              "  (linear2): Linear(in_features=100, out_features=1, bias=True)\n",
              ")"
            ]
          },
          "metadata": {},
          "execution_count": 13
        }
      ]
    },
    {
      "cell_type": "code",
      "source": [
        "def check_last_activation(model):\n",
        "    # Використовуємо фіктивний вхід для перевірки виходу останнього шару\n",
        "    input_dim = model.linear1.in_features\n",
        "    test_input = torch.randn(100, input_dim)\n",
        "\n",
        "    try:\n",
        "        # Пропускаємо через forward, щоб перевірити останню функцію активації\n",
        "        output = model.forward(test_input)\n",
        "\n",
        "        if isinstance(output, torch.Tensor):\n",
        "            # Перевіряємо, чи відповідає вихід сигмоїді (діапазон значень між 0 і 1)\n",
        "            if torch.all(output >= 0) and torch.all(output <= 1):\n",
        "                print(\"[OK] Остання функція активації - sigmoid\")\n",
        "            else:\n",
        "                print(\"[FAILED] Остання функція активації не sigmoid, вихід: \", output)\n",
        "        else:\n",
        "            print(\"[FAILED] Невірний вихід, очікувався тензор\")\n",
        "    except Exception as e:\n",
        "        print(f\"[FAILED] Помилка під час перевірки функції активації sigmoid: {e}\")\n",
        "\n",
        "# Перевірка функції forward\n",
        "def check_forward(model, input_shape):\n",
        "    try:\n",
        "        input_tensor = torch.randn(input_shape)\n",
        "        output = model.forward(input_tensor)\n",
        "\n",
        "        if output.shape[1] == 1:\n",
        "            print(f\"[OK] Функція forward працює, вихід: {output.shape}\")\n",
        "        else:\n",
        "            print(f\"[FAILED] Невірний вихід функції forward, вихід: {output.shape}\")\n",
        "    except Exception as e:\n",
        "        print(f\"[FAILED] Помилка у функції forward: {e}\")\n",
        "\n",
        "# Перевірка функції predict\n",
        "def check_predict(model, X_sample):\n",
        "    try:\n",
        "        device = 'cpu'  # Можна змінити на GPU, якщо потрібно\n",
        "        output = model.predict(X_sample, device=device)\n",
        "\n",
        "        if isinstance(output, np.ndarray):\n",
        "            print(\"[OK] Функція predict працює, вихід - NumPy масив\")\n",
        "        else:\n",
        "            print(\"[FAILED] Невірний тип виходу функції predict, очікується NumPy масив\")\n",
        "    except Exception as e:\n",
        "        print(f\"[FAILED] Помилка у функції predict: {e}\")"
      ],
      "metadata": {
        "id": "5YfZcOiNeuvD"
      },
      "execution_count": 14,
      "outputs": []
    },
    {
      "cell_type": "code",
      "source": [
        "# Основна функція для виклику перевірок\n",
        "def main_check(model, input_shape, X_sample):\n",
        "    print(\"Розпочинаю перевірку моделі...\")\n",
        "    check_last_activation(model)\n",
        "    check_forward(model, input_shape)\n",
        "    check_predict(model, X_sample)\n",
        "\n",
        "\n",
        "main_check(model, X_train.shape, X_train)"
      ],
      "metadata": {
        "colab": {
          "base_uri": "https://localhost:8080/"
        },
        "id": "8zD1_f0Seujz",
        "outputId": "ab8ec9cb-9eaf-416c-bac3-e7f146f56e12"
      },
      "execution_count": 15,
      "outputs": [
        {
          "output_type": "stream",
          "name": "stdout",
          "text": [
            "Розпочинаю перевірку моделі...\n",
            "[OK] Остання функція активації - sigmoid\n",
            "[OK] Функція forward працює, вихід: torch.Size([6400, 1])\n",
            "[OK] Функція predict працює, вихід - NumPy масив\n"
          ]
        }
      ]
    },
    {
      "cell_type": "markdown",
      "source": [
        "# Zadanie 4\nOkreśl funkcję straty i optymalizator"
      ],
      "metadata": {
        "id": "VmNUVkkUf8gB"
      }
    },
    {
      "cell_type": "code",
      "source": [
        "loss_fn = nn.BCELoss()\n",
        "optimizer = torch.optim.SGD(model.parameters(), lr=0.001)"
      ],
      "metadata": {
        "id": "e1sw9oRBgDXR"
      },
      "execution_count": 16,
      "outputs": []
    },
    {
      "cell_type": "markdown",
      "source": [
        "# Zadanie 5\nZawiesić sieć neuronową. Odwiedź niewielką liczbę epok"
      ],
      "metadata": {
        "id": "qTOFCl_egEFZ"
      }
    },
    {
      "cell_type": "code",
      "source": [
        "# @title Функція для тренування\n",
        "import time\n",
        "\n",
        "def train(model, optimizer, loss_fn, train_dl, val_dl,\n",
        "          metrics=None, metrics_name=None, epochs=20, device='cpu', task='regression'):\n",
        "    '''\n",
        "    Runs training loop for classification problems. Returns Keras-style\n",
        "    per-epoch history of loss and accuracy over training and validation data.\n",
        "\n",
        "    Parameters\n",
        "    ----------\n",
        "    model : nn.Module\n",
        "        Neural network model\n",
        "    optimizer : torch.optim.Optimizer\n",
        "        Search space optimizer (e.g. Adam)\n",
        "    loss_fn :\n",
        "        Loss function (e.g. nn.CrossEntropyLoss())\n",
        "    train_dl :\n",
        "        Iterable dataloader for training data.\n",
        "    val_dl :\n",
        "        Iterable dataloader for validation data.\n",
        "    metrics: list\n",
        "        List of sklearn metrics functions to be calculated\n",
        "    metrics_name: list\n",
        "        List of matrics names\n",
        "    epochs : int\n",
        "        Number of epochs to run\n",
        "    device : string\n",
        "        Specifies 'cuda' or 'cpu'\n",
        "    task : string\n",
        "        type of problem. It can be regression, binary or multiclass\n",
        "\n",
        "    Returns\n",
        "    -------\n",
        "    Dictionary\n",
        "        Similar to Keras' fit(), the output dictionary contains per-epoch\n",
        "        history of training loss, training accuracy, validation loss, and\n",
        "        validation accuracy.\n",
        "    '''\n",
        "\n",
        "    print('train() called: model=%s, opt=%s(lr=%f), epochs=%d, device=%s\\n' % \\\n",
        "          (type(model).__name__, type(optimizer).__name__,\n",
        "           optimizer.param_groups[0]['lr'], epochs, device))\n",
        "\n",
        "    metrics = metrics if metrics else []\n",
        "    metrics_name = metrics_name if metrics_name else [metric.__name__ for metric in metrics]\n",
        "\n",
        "    history = {} # Collects per-epoch loss and metrics like Keras' fit().\n",
        "    history['loss'] = []\n",
        "    history['val_loss'] = []\n",
        "    for name in metrics_name:\n",
        "        history[name] = []\n",
        "        history[f'val_{name}'] = []\n",
        "\n",
        "    start_time_train = time.time()\n",
        "\n",
        "    for epoch in range(epochs):\n",
        "\n",
        "        # --- TRAIN AND EVALUATE ON TRAINING SET -----------------------------\n",
        "        start_time_epoch = time.time()\n",
        "\n",
        "        model.train()\n",
        "        history_train = {name: 0 for name in ['loss']+metrics_name}\n",
        "\n",
        "        for batch in train_dl:\n",
        "            x    = batch[0].to(device)\n",
        "            y    = batch[1].to(device)\n",
        "            y_pred = model(x)\n",
        "            loss = loss_fn(y_pred, y)\n",
        "\n",
        "            optimizer.zero_grad()\n",
        "            loss.backward()\n",
        "            optimizer.step()\n",
        "\n",
        "            y_pred = y_pred.detach().cpu().numpy()\n",
        "            y = y.detach().cpu().numpy()\n",
        "\n",
        "\n",
        "            history_train['loss'] += loss.item() * x.size(0)\n",
        "            for name, func in zip(metrics_name, metrics):\n",
        "              try:\n",
        "                  history_train[name] += func(y, y_pred) * x.size(0)\n",
        "              except:\n",
        "                  if task == 'binary': y_pred_ = y_pred.round()\n",
        "                  elif task == 'multiclass': y_pred_ = y_pred.argmax(axis=-1)\n",
        "                  history_train[name] += func(y, y_pred_) * x.size(0)\n",
        "\n",
        "        for name in history_train:\n",
        "            history_train[name] /= len(train_dl.dataset)\n",
        "\n",
        "\n",
        "        # --- EVALUATE ON VALIDATION SET -------------------------------------\n",
        "        model.eval()\n",
        "        history_val = {'val_' + name: 0 for name in metrics_name+['loss']}\n",
        "\n",
        "        with torch.no_grad():\n",
        "            for batch in val_dl:\n",
        "                x    = batch[0].to(device)\n",
        "                y    = batch[1].to(device)\n",
        "                y_pred = model(x)\n",
        "                loss = loss_fn(y_pred, y)\n",
        "\n",
        "                y_pred = y_pred.cpu().numpy()\n",
        "                y = y.cpu().numpy()\n",
        "\n",
        "                history_val['val_loss'] += loss.item() * x.size(0)\n",
        "                for name, func in zip(metrics_name, metrics):\n",
        "                    try:\n",
        "                        history_val['val_'+name] += func(y, y_pred) * x.size(0)\n",
        "                    except:\n",
        "                        if task == 'binary': y_pred_ = y_pred.round()\n",
        "                        elif task == 'multiclass': y_pred_ = y_pred.argmax(axis=-1)\n",
        "\n",
        "                        history_val['val_'+name] += func(y, y_pred_) * x.size(0)\n",
        "\n",
        "        for name in history_val:\n",
        "            history_val[name] /= len(val_dl.dataset)\n",
        "\n",
        "        # PRINTING RESULTS\n",
        "\n",
        "        end_time_epoch = time.time()\n",
        "\n",
        "        for name in history_train:\n",
        "            history[name].append(history_train[name])\n",
        "            history['val_'+name].append(history_val['val_'+name])\n",
        "\n",
        "        total_time_epoch = end_time_epoch - start_time_epoch\n",
        "\n",
        "        print(f'Epoch {epoch+1:4d} {total_time_epoch:4.0f}sec', end='\\t')\n",
        "        for name in history_train:\n",
        "            print(f'{name}: {history[name][-1]:10.3g}', end='\\t')\n",
        "            print(f\"val_{name}: {history['val_'+name][-1]:10.3g}\", end='\\t')\n",
        "        print()\n",
        "\n",
        "    # END OF TRAINING LOOP\n",
        "\n",
        "    end_time_train       = time.time()\n",
        "    total_time_train     = end_time_train - start_time_train\n",
        "    print()\n",
        "    print('Time total:     %5.2f sec' % (total_time_train))\n",
        "\n",
        "    return history"
      ],
      "metadata": {
        "id": "Nxo4p3IUgOx5",
        "cellView": "form"
      },
      "execution_count": 17,
      "outputs": []
    },
    {
      "cell_type": "code",
      "source": [
        "from sklearn.metrics import accuracy_score, roc_auc_score\n",
        "\n",
        "history = train(model, optimizer, loss_fn, train_dl, test_dl,\n",
        "                epochs=20,\n",
        "                metrics=[accuracy_score, roc_auc_score],\n",
        "                device=device,\n",
        "                task='binary')"
      ],
      "metadata": {
        "id": "1hzJIibbNA2f",
        "colab": {
          "base_uri": "https://localhost:8080/"
        },
        "outputId": "fbd8da50-da62-47f4-fb8b-96d7a214d9e1"
      },
      "execution_count": 18,
      "outputs": [
        {
          "output_type": "stream",
          "name": "stdout",
          "text": [
            "train() called: model=BinaryClassifier, opt=SGD(lr=0.001000), epochs=20, device=cpu\n",
            "\n",
            "Epoch    1    1sec\tloss:      0.698\tval_loss:      0.697\taccuracy_score:      0.501\tval_accuracy_score:      0.501\troc_auc_score:      0.653\tval_roc_auc_score:      0.662\t\n",
            "Epoch    2    0sec\tloss:      0.697\tval_loss:      0.696\taccuracy_score:      0.501\tval_accuracy_score:      0.501\troc_auc_score:       0.65\tval_roc_auc_score:      0.665\t\n",
            "Epoch    3    0sec\tloss:      0.696\tval_loss:      0.696\taccuracy_score:      0.501\tval_accuracy_score:      0.501\troc_auc_score:      0.651\tval_roc_auc_score:      0.662\t\n",
            "Epoch    4    0sec\tloss:      0.695\tval_loss:      0.695\taccuracy_score:      0.501\tval_accuracy_score:      0.501\troc_auc_score:      0.652\tval_roc_auc_score:      0.669\t\n",
            "Epoch    5    0sec\tloss:      0.695\tval_loss:      0.694\taccuracy_score:      0.501\tval_accuracy_score:      0.501\troc_auc_score:      0.655\tval_roc_auc_score:      0.673\t\n",
            "Epoch    6    0sec\tloss:      0.694\tval_loss:      0.694\taccuracy_score:      0.501\tval_accuracy_score:      0.501\troc_auc_score:      0.656\tval_roc_auc_score:      0.679\t\n",
            "Epoch    7    0sec\tloss:      0.694\tval_loss:      0.694\taccuracy_score:      0.501\tval_accuracy_score:      0.501\troc_auc_score:      0.666\tval_roc_auc_score:      0.691\t\n",
            "Epoch    8    0sec\tloss:      0.694\tval_loss:      0.693\taccuracy_score:      0.501\tval_accuracy_score:      0.501\troc_auc_score:      0.673\tval_roc_auc_score:        0.7\t\n",
            "Epoch    9    0sec\tloss:      0.693\tval_loss:      0.693\taccuracy_score:      0.501\tval_accuracy_score:      0.501\troc_auc_score:      0.682\tval_roc_auc_score:      0.711\t\n",
            "Epoch   10    0sec\tloss:      0.693\tval_loss:      0.692\taccuracy_score:      0.501\tval_accuracy_score:      0.501\troc_auc_score:      0.693\tval_roc_auc_score:      0.725\t\n",
            "Epoch   11    0sec\tloss:      0.693\tval_loss:      0.692\taccuracy_score:      0.501\tval_accuracy_score:      0.501\troc_auc_score:      0.707\tval_roc_auc_score:      0.739\t\n",
            "Epoch   12    0sec\tloss:      0.692\tval_loss:      0.692\taccuracy_score:      0.501\tval_accuracy_score:      0.501\troc_auc_score:      0.718\tval_roc_auc_score:      0.753\t\n",
            "Epoch   13    0sec\tloss:      0.692\tval_loss:      0.692\taccuracy_score:      0.501\tval_accuracy_score:      0.501\troc_auc_score:      0.733\tval_roc_auc_score:      0.767\t\n",
            "Epoch   14    0sec\tloss:      0.692\tval_loss:      0.691\taccuracy_score:      0.501\tval_accuracy_score:      0.501\troc_auc_score:      0.747\tval_roc_auc_score:      0.784\t\n",
            "Epoch   15    0sec\tloss:      0.691\tval_loss:      0.691\taccuracy_score:      0.501\tval_accuracy_score:      0.501\troc_auc_score:      0.762\tval_roc_auc_score:      0.796\t\n",
            "Epoch   16    0sec\tloss:      0.691\tval_loss:      0.691\taccuracy_score:      0.501\tval_accuracy_score:      0.501\troc_auc_score:      0.772\tval_roc_auc_score:       0.81\t\n",
            "Epoch   17    1sec\tloss:      0.691\tval_loss:      0.691\taccuracy_score:      0.501\tval_accuracy_score:      0.501\troc_auc_score:      0.786\tval_roc_auc_score:       0.82\t\n",
            "Epoch   18    1sec\tloss:      0.691\tval_loss:       0.69\taccuracy_score:      0.501\tval_accuracy_score:      0.501\troc_auc_score:        0.8\tval_roc_auc_score:      0.833\t\n",
            "Epoch   19    1sec\tloss:       0.69\tval_loss:       0.69\taccuracy_score:      0.501\tval_accuracy_score:      0.501\troc_auc_score:      0.813\tval_roc_auc_score:      0.846\t\n",
            "Epoch   20    1sec\tloss:       0.69\tval_loss:       0.69\taccuracy_score:      0.501\tval_accuracy_score:      0.501\troc_auc_score:      0.825\tval_roc_auc_score:      0.855\t\n",
            "\n",
            "Time total:      8.54 sec\n"
          ]
        }
      ]
    },
    {
      "cell_type": "markdown",
      "source": [
        "# Zadanie 6\nWydaj wykres metryki i Marysów błędów"
      ],
      "metadata": {
        "id": "aoclw4XlgPhB"
      }
    },
    {
      "cell_type": "code",
      "source": [
        "import matplotlib.pyplot as plt\n",
        "from sklearn.metrics import confusion_matrix\n",
        "import seaborn as sns\n",
        "\n",
        "plt.figure(figsize=(10, 5))\n",
        "plt.plot(history['accuracy_score'])\n",
        "plt.plot(history['roc_auc_score'])\n",
        "plt.title('Model accuracy')\n",
        "plt.ylabel('Accuracy')\n",
        "plt.xlabel('Epoch')\n",
        "plt.legend(['Train', 'Test'], loc='upper left')\n",
        "plt.show()\n",
        "\n",
        "\n",
        "plt.figure(figsize=(10, 5))\n",
        "plt.plot(history['loss'])\n",
        "plt.plot(history['val_loss'])\n",
        "plt.title('Model loss')\n",
        "plt.ylabel('Loss')\n",
        "plt.xlabel('Epoch')\n",
        "plt.legend(['Train', 'Test'], loc='upper left')\n",
        "plt.show()\n",
        "\n",
        "\n",
        "plt.figure(figsize=(10, 5))\n",
        "plt.plot(history['roc_auc_score'])\n",
        "plt.plot(history['val_roc_auc_score'])\n",
        "plt.title('Model roc_auc_score')\n",
        "plt.ylabel('roc_auc_score')\n",
        "plt.xlabel('Epoch')\n",
        "plt.legend(['Train', 'Test'], loc='upper left')\n",
        "plt.show()\n",
        "\n",
        "\n",
        "with torch.no_grad():\n",
        "    y_pred_list = []\n",
        "    y_true_list = []\n",
        "    for batch in test_dl:\n",
        "        x, y = batch\n",
        "        x = x.to(device)\n",
        "        y_pred = model(x)\n",
        "        y_pred_tag = torch.round(y_pred)\n",
        "        y_pred_list.append(y_pred_tag.cpu().numpy())\n",
        "        y_true_list.append(y.cpu().numpy())\n",
        "\n",
        "y_pred_list = [a.squeeze().tolist() for a in y_pred_list]\n",
        "y_true_list = [a.squeeze().tolist() for a in y_true_list]\n",
        "y_pred_list = sum(y_pred_list, [])\n",
        "y_true_list = sum(y_true_list, [])\n",
        "\n",
        "conf_mat = confusion_matrix(y_true_list, y_pred_list)\n",
        "plt.figure(figsize=(8, 6))\n",
        "sns.heatmap(conf_mat, annot=True, fmt='d', cmap='Blues')\n",
        "plt.title('Confusion Matrix')\n",
        "plt.xlabel('Predicted Label')\n",
        "plt.ylabel('True Label')\n",
        "plt.show()"
      ],
      "metadata": {
        "colab": {
          "base_uri": "https://localhost:8080/",
          "height": 1000
        },
        "id": "OKpZ_13i48fM",
        "outputId": "75e1ac21-a9cd-4c99-a300-490f4e11263d"
      },
      "execution_count": 21,
      "outputs": [
        {
          "output_type": "display_data",
          "data": {
            "text/plain": [
              "<Figure size 1000x500 with 1 Axes>"
            ],
            "image/png": "[encoded data removed]"
          },
          "metadata": {}
        },
        {
          "output_type": "display_data",
          "data": {
            "text/plain": [
              "<Figure size 1000x500 with 1 Axes>"
            ],
            "image/png": "[encoded data removed]"
          },
          "metadata": {}
        },
        {
          "output_type": "display_data",
          "data": {
            "text/plain": [
              "<Figure size 1000x500 with 1 Axes>"
            ],
            "image/png": "[encoded data removed]"
          },
          "metadata": {}
        },
        {
          "output_type": "display_data",
          "data": {
            "text/plain": [
              "<Figure size 800x600 with 2 Axes>"
            ],
            "image/png": "[encoded data removed]"
          },
          "metadata": {}
        }
      ]
    }
  ]
}